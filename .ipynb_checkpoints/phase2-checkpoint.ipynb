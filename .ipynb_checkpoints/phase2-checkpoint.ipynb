{
 "cells": [
  {
   "cell_type": "markdown",
   "id": "dd8b4813",
   "metadata": {},
   "source": [
    "## Numpy array operations"
   ]
  },
  {
   "cell_type": "code",
   "execution_count": 6,
   "id": "3731fc26",
   "metadata": {},
   "outputs": [
    {
     "ename": "ModuleNotFoundError",
     "evalue": "No module named 'numpy'",
     "output_type": "error",
     "traceback": [
      "\u001b[31m---------------------------------------------------------------------------\u001b[39m",
      "\u001b[31mModuleNotFoundError\u001b[39m                       Traceback (most recent call last)",
      "\u001b[36mCell\u001b[39m\u001b[36m \u001b[39m\u001b[32mIn[6]\u001b[39m\u001b[32m, line 1\u001b[39m\n\u001b[32m----> \u001b[39m\u001b[32m1\u001b[39m \u001b[38;5;28;01mimport\u001b[39;00m\u001b[38;5;250m \u001b[39m\u001b[34;01mnumpy\u001b[39;00m\u001b[38;5;250m \u001b[39m\u001b[38;5;28;01mas\u001b[39;00m\u001b[38;5;250m \u001b[39m\u001b[34;01mnp\u001b[39;00m\n",
      "\u001b[31mModuleNotFoundError\u001b[39m: No module named 'numpy'"
     ]
    }
   ],
   "source": [
    "import numpy as np"
   ]
  },
  {
   "cell_type": "code",
   "execution_count": 7,
   "id": "03c63362",
   "metadata": {},
   "outputs": [
    {
     "ename": "NameError",
     "evalue": "name 'np' is not defined",
     "output_type": "error",
     "traceback": [
      "\u001b[31m---------------------------------------------------------------------------\u001b[39m",
      "\u001b[31mNameError\u001b[39m                                 Traceback (most recent call last)",
      "\u001b[36mCell\u001b[39m\u001b[36m \u001b[39m\u001b[32mIn[7]\u001b[39m\u001b[32m, line 1\u001b[39m\n\u001b[32m----> \u001b[39m\u001b[32m1\u001b[39m arr=\u001b[43mnp\u001b[49m.array([\u001b[32m1\u001b[39m,\u001b[32m2\u001b[39m,\u001b[32m3\u001b[39m,\u001b[32m4\u001b[39m,\u001b[32m5\u001b[39m,\u001b[32m6\u001b[39m,\u001b[32m7\u001b[39m,\u001b[32m8\u001b[39m,\u001b[32m9\u001b[39m])\n\u001b[32m      2\u001b[39m \u001b[38;5;28mprint\u001b[39m(\u001b[33m\"\u001b[39m\u001b[33mbasic slicing:\u001b[39m\u001b[33m\"\u001b[39m,arr[\u001b[32m2\u001b[39m:\u001b[32m7\u001b[39m])\n\u001b[32m      3\u001b[39m \u001b[38;5;28mprint\u001b[39m(\u001b[33m\"\u001b[39m\u001b[33mwith step:\u001b[39m\u001b[33m\"\u001b[39m,arr[\u001b[32m2\u001b[39m:-\u001b[32m1\u001b[39m:\u001b[32m2\u001b[39m])\n",
      "\u001b[31mNameError\u001b[39m: name 'np' is not defined"
     ]
    }
   ],
   "source": [
    "arr=np.array([1,2,3,4,5,6,7,8,9])\n",
    "print(\"basic slicing:\",arr[2:7])\n",
    "print(\"with step:\",arr[2:-1:2])\n",
    "print(\"negative indexing:\",arr[-2])"
   ]
  },
  {
   "cell_type": "code",
   "execution_count": null,
   "id": "e1db0fe3",
   "metadata": {},
   "outputs": [
    {
     "name": "stdout",
     "output_type": "stream",
     "text": [
      "specific element: 6\n",
      "entrire row: [4 5 6]\n",
      "third row: [7 8 9]\n",
      "entire column: [2 5 8]\n",
      "0 column: [1 4 7]\n",
      "3 rd column: [3 6 9]\n"
     ]
    }
   ],
   "source": [
    "arr2d=np.array([[1,2,3],\n",
    "                [4,5,6],\n",
    "                [7,8,9]])\n",
    "print(\"specific element:\",arr2d[1,2])\n",
    "print(\"entrire row:\",arr2d[1])\n",
    "print(\"third row:\",arr2d[2])\n",
    "print(\"entire column:\",arr2d[:,1])\n",
    "print(\"0 column:\",arr2d[:,0])\n",
    "print(\"3 rd column:\",arr2d[:,2])"
   ]
  },
  {
   "cell_type": "markdown",
   "id": "7d9da993",
   "metadata": {},
   "source": [
    "## sorting"
   ]
  },
  {
   "cell_type": "code",
   "execution_count": null,
   "id": "4e08424f",
   "metadata": {},
   "outputs": [],
   "source": [
    "unsorted=np.array([3,4,1,6,7,8,13,56,78,44,100])"
   ]
  },
  {
   "cell_type": "code",
   "execution_count": null,
   "id": "9f321763",
   "metadata": {},
   "outputs": [
    {
     "name": "stdout",
     "output_type": "stream",
     "text": [
      "unsorted array [  3   4   1   6   7   8  13  56  78  44 100]\n"
     ]
    }
   ],
   "source": [
    "print(\"unsorted array\",unsorted)"
   ]
  },
  {
   "cell_type": "code",
   "execution_count": null,
   "id": "7eab79a6",
   "metadata": {},
   "outputs": [
    {
     "name": "stdout",
     "output_type": "stream",
     "text": [
      "sorted array: [  1   3   4   6   7   8  13  44  56  78 100]\n"
     ]
    }
   ],
   "source": [
    "print('sorted array:',np.sort(unsorted))"
   ]
  },
  {
   "cell_type": "code",
   "execution_count": null,
   "id": "670338d7",
   "metadata": {},
   "outputs": [],
   "source": [
    "arr_2d_unsorted=np.array([[1,10,22,4],\n",
    "                          [3,55,6,1],\n",
    "                          [6,8,3,7]])"
   ]
  },
  {
   "cell_type": "code",
   "execution_count": null,
   "id": "9280b48a",
   "metadata": {},
   "outputs": [
    {
     "name": "stdout",
     "output_type": "stream",
     "text": [
      "sorted 2D array by column: [[ 1  8  3  1]\n",
      " [ 3 10  6  4]\n",
      " [ 6 55 22  7]]\n"
     ]
    }
   ],
   "source": [
    "print(\"sorted 2D array by column:\",np.sort(arr_2d_unsorted,axis=0))"
   ]
  },
  {
   "cell_type": "markdown",
   "id": "1e012c12",
   "metadata": {},
   "source": [
    "## "
   ]
  },
  {
   "cell_type": "markdown",
   "id": "4d31262b",
   "metadata": {},
   "source": [
    "## Filtering\n"
   ]
  },
  {
   "cell_type": "code",
   "execution_count": null,
   "id": "ba1a8358",
   "metadata": {},
   "outputs": [],
   "source": [
    "numbers=np.arange(0,12)"
   ]
  },
  {
   "cell_type": "code",
   "execution_count": null,
   "id": "470c2cfb",
   "metadata": {},
   "outputs": [
    {
     "name": "stdout",
     "output_type": "stream",
     "text": [
      "numbers: [ 0  1  2  3  4  5  6  7  8  9 10 11]\n"
     ]
    }
   ],
   "source": [
    "print(\"numbers:\",numbers)"
   ]
  },
  {
   "cell_type": "code",
   "execution_count": null,
   "id": "320ec36e",
   "metadata": {},
   "outputs": [
    {
     "name": "stdout",
     "output_type": "stream",
     "text": [
      "even numbers: [ 0  2  4  6  8 10]\n",
      "odd number: [ 1  3  5  7  9 11]\n"
     ]
    }
   ],
   "source": [
    "even_numbers=numbers[numbers % 2==0]\n",
    "print(\"even numbers:\",even_numbers)\n",
    "odd_numbers=numbers[numbers % 2!=0]\n",
    "print(\"odd number:\",odd_numbers)"
   ]
  },
  {
   "cell_type": "markdown",
   "id": "4914d7a2",
   "metadata": {},
   "source": [
    "## Fiter with mask"
   ]
  },
  {
   "cell_type": "code",
   "execution_count": null,
   "id": "e3a68535",
   "metadata": {},
   "outputs": [
    {
     "name": "stdout",
     "output_type": "stream",
     "text": [
      "nubers greater than 5 [ 6  7  8  9 10 11]\n"
     ]
    }
   ],
   "source": [
    "mask=numbers>5\n",
    "print(\"nubers greater than 5\",numbers[mask])"
   ]
  },
  {
   "cell_type": "code",
   "execution_count": null,
   "id": "54751e51",
   "metadata": {},
   "outputs": [],
   "source": [
    "num=numbers<10"
   ]
  },
  {
   "cell_type": "code",
   "execution_count": null,
   "id": "7642b1fe",
   "metadata": {},
   "outputs": [
    {
     "name": "stdout",
     "output_type": "stream",
     "text": [
      "number less than 10 [0 1 2 3 4 5 6 7 8 9]\n"
     ]
    }
   ],
   "source": [
    "print(\"number less than 10\",numbers[num])"
   ]
  },
  {
   "cell_type": "markdown",
   "id": "811b0a09",
   "metadata": {},
   "source": [
    "## fancy indexing and np.where()"
   ]
  },
  {
   "cell_type": "code",
   "execution_count": null,
   "id": "83391de4",
   "metadata": {},
   "outputs": [
    {
     "name": "stdout",
     "output_type": "stream",
     "text": [
      "[0 1 4 6 5]\n",
      "where result (array([ 6,  7,  8,  9, 10, 11]),)\n"
     ]
    }
   ],
   "source": [
    "index=[0,1,4,6,5]\n",
    "print(numbers[index])\n",
    "where_result=np.where(numbers>5)\n",
    "print(\"where result\",where_result)"
   ]
  },
  {
   "cell_type": "code",
   "execution_count": null,
   "id": "e282cb8b",
   "metadata": {},
   "outputs": [
    {
     "ename": "NameError",
     "evalue": "name 'np' is not defined",
     "output_type": "error",
     "traceback": [
      "\u001b[31m---------------------------------------------------------------------------\u001b[39m",
      "\u001b[31mNameError\u001b[39m                                 Traceback (most recent call last)",
      "\u001b[36mCell\u001b[39m\u001b[36m \u001b[39m\u001b[32mIn[2]\u001b[39m\u001b[32m, line 1\u001b[39m\n\u001b[32m----> \u001b[39m\u001b[32m1\u001b[39m condition_array=\u001b[43mnp\u001b[49m.where(numbers > \u001b[32m5\u001b[39m)\n\u001b[32m      2\u001b[39m \u001b[38;5;28mprint\u001b[39m(condition_array)\n",
      "\u001b[31mNameError\u001b[39m: name 'np' is not defined"
     ]
    }
   ],
   "source": [
    "condition_array=np.where(numbers > 5)\n",
    "print(condition_array)"
   ]
  },
  {
   "cell_type": "code",
   "execution_count": null,
   "id": "415f7af7",
   "metadata": {},
   "outputs": [],
   "source": []
  }
 ],
 "metadata": {
  "kernelspec": {
   "display_name": "Python 3",
   "language": "python",
   "name": "python3"
  },
  "language_info": {
   "codemirror_mode": {
    "name": "ipython",
    "version": 3
   },
   "file_extension": ".py",
   "mimetype": "text/x-python",
   "name": "python",
   "nbconvert_exporter": "python",
   "pygments_lexer": "ipython3",
   "version": "3.13.5"
  }
 },
 "nbformat": 4,
 "nbformat_minor": 5
}
