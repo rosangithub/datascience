{
 "cells": [
  {
   "cell_type": "markdown",
   "id": "226d4294-5968-43f3-92ee-f46e2f99fff7",
   "metadata": {},
   "source": [
    "# Slicing of array"
   ]
  },
  {
   "cell_type": "code",
   "execution_count": 1,
   "id": "5e81c6a0-b753-4333-9868-11a56b36b6dd",
   "metadata": {},
   "outputs": [],
   "source": [
    "import numpy as np\n",
    "arr=np.array([1,2,3,4,5,6,7])"
   ]
  },
  {
   "cell_type": "code",
   "execution_count": 3,
   "id": "3f51ee58-10f7-4375-9bcb-aca655468f5c",
   "metadata": {},
   "outputs": [
    {
     "data": {
      "text/plain": [
       "array([1, 2, 3, 4])"
      ]
     },
     "execution_count": 3,
     "metadata": {},
     "output_type": "execute_result"
    }
   ],
   "source": [
    "arr[0:4]# this always include the start index and exlcude the end index"
   ]
  },
  {
   "cell_type": "markdown",
   "id": "caeb4da6-8842-487c-a594-2327f2d3d944",
   "metadata": {},
   "source": [
    "## negative slicing\n",
    "- [-3:-4]"
   ]
  },
  {
   "cell_type": "code",
   "execution_count": 4,
   "id": "7068297f-968b-42ea-a27a-4cd0a60410f5",
   "metadata": {},
   "outputs": [
    {
     "data": {
      "text/plain": [
       "array([5, 6])"
      ]
     },
     "execution_count": 4,
     "metadata": {},
     "output_type": "execute_result"
    }
   ],
   "source": [
    "arr[-3:-1]"
   ]
  },
  {
   "cell_type": "markdown",
   "id": "e28e1823-832f-46c7-9bdc-8bb20b8d73f0",
   "metadata": {},
   "source": [
    "## step \n",
    "-use thestep valude to determine the steps of  slicing"
   ]
  },
  {
   "cell_type": "code",
   "execution_count": 5,
   "id": "e88a6c9d-00bf-4b6d-bcc4-7498abd718f0",
   "metadata": {},
   "outputs": [
    {
     "data": {
      "text/plain": [
       "array([2, 4])"
      ]
     },
     "execution_count": 5,
     "metadata": {},
     "output_type": "execute_result"
    }
   ],
   "source": [
    "arr[1:5:2]"
   ]
  },
  {
   "cell_type": "markdown",
   "id": "7b937a37-6627-4522-b6b1-1508514d7650",
   "metadata": {},
   "source": [
    "# slicing in 2-D arrays"
   ]
  },
  {
   "cell_type": "code",
   "execution_count": 6,
   "id": "0a491783-8545-46c2-bd40-36e1ba8d8464",
   "metadata": {},
   "outputs": [],
   "source": [
    "arr=np.array([[1,2,3,4,5],\n",
    "              [6,7,8,9,10]])"
   ]
  },
  {
   "cell_type": "code",
   "execution_count": 7,
   "id": "bb3c7abb-188d-43a1-9d12-54096637f0d0",
   "metadata": {},
   "outputs": [
    {
     "data": {
      "text/plain": [
       "array([[ 1,  2,  3,  4,  5],\n",
       "       [ 6,  7,  8,  9, 10]])"
      ]
     },
     "execution_count": 7,
     "metadata": {},
     "output_type": "execute_result"
    }
   ],
   "source": [
    "arr"
   ]
  },
  {
   "cell_type": "code",
   "execution_count": 8,
   "id": "c1d3d9d0-4998-4216-a72e-72b749d56202",
   "metadata": {},
   "outputs": [
    {
     "data": {
      "text/plain": [
       "array([2, 3, 4])"
      ]
     },
     "execution_count": 8,
     "metadata": {},
     "output_type": "execute_result"
    }
   ],
   "source": [
    "arr[0,1:-1]"
   ]
  },
  {
   "cell_type": "code",
   "execution_count": 9,
   "id": "8eee9a91-8b16-4d68-815b-63ce8f32d09f",
   "metadata": {},
   "outputs": [
    {
     "data": {
      "text/plain": [
       "array([7])"
      ]
     },
     "execution_count": 9,
     "metadata": {},
     "output_type": "execute_result"
    }
   ],
   "source": [
    "arr[1,1:-2:2]"
   ]
  },
  {
   "cell_type": "code",
   "execution_count": 10,
   "id": "f6572b8a-4975-450d-a109-961b7de716aa",
   "metadata": {},
   "outputs": [
    {
     "data": {
      "text/plain": [
       "array([6, 8])"
      ]
     },
     "execution_count": 10,
     "metadata": {},
     "output_type": "execute_result"
    }
   ],
   "source": [
    "arr[1,:-1:2]"
   ]
  },
  {
   "cell_type": "markdown",
   "id": "48734176-dcab-4dbb-b8da-a10f376a29c2",
   "metadata": {},
   "source": [
    "## iterating arrays \n"
   ]
  },
  {
   "cell_type": "code",
   "execution_count": 11,
   "id": "c9353a4d-595f-4798-9fc0-0eaba11c60c4",
   "metadata": {},
   "outputs": [
    {
     "name": "stdout",
     "output_type": "stream",
     "text": [
      "[1 2 3 4 5]\n",
      "[ 6  7  8  9 10]\n"
     ]
    }
   ],
   "source": [
    "for x in arr:\n",
    "    print(x)"
   ]
  },
  {
   "cell_type": "markdown",
   "id": "428ac471-88e1-4fc7-b2ac-704f1ba7ca9a",
   "metadata": {},
   "source": [
    "## data types in array"
   ]
  },
  {
   "cell_type": "code",
   "execution_count": 12,
   "id": "5756128f-932c-40a0-880a-5c8b3352e4f6",
   "metadata": {},
   "outputs": [],
   "source": [
    "a1=np.array([1,3,4,5,5])"
   ]
  },
  {
   "cell_type": "code",
   "execution_count": 13,
   "id": "3cc89bfa-cc0b-43aa-9d56-7cd28072d1e1",
   "metadata": {},
   "outputs": [
    {
     "data": {
      "text/plain": [
       "dtype('int64')"
      ]
     },
     "execution_count": 13,
     "metadata": {},
     "output_type": "execute_result"
    }
   ],
   "source": [
    "a1.dtype"
   ]
  },
  {
   "cell_type": "code",
   "execution_count": 14,
   "id": "417ca7cd-f9c1-40c7-b285-a7addbe4dee1",
   "metadata": {},
   "outputs": [],
   "source": [
    "a2=np.array(['a','b','c'])"
   ]
  },
  {
   "cell_type": "code",
   "execution_count": 15,
   "id": "1c14cb5e-e69b-429e-972a-7001339d0c14",
   "metadata": {},
   "outputs": [
    {
     "data": {
      "text/plain": [
       "dtype('<U1')"
      ]
     },
     "execution_count": 15,
     "metadata": {},
     "output_type": "execute_result"
    }
   ],
   "source": [
    "a2.dtype"
   ]
  },
  {
   "cell_type": "code",
   "execution_count": 16,
   "id": "7d1875bd-f35b-40c8-8ad0-3bf10174afdd",
   "metadata": {},
   "outputs": [],
   "source": [
    "a3=np.array([1,2,3,4,5],dtype='S')"
   ]
  },
  {
   "cell_type": "code",
   "execution_count": 17,
   "id": "954c78cf-e331-44d2-b26d-3d57e785d982",
   "metadata": {},
   "outputs": [
    {
     "data": {
      "text/plain": [
       "dtype('S1')"
      ]
     },
     "execution_count": 17,
     "metadata": {},
     "output_type": "execute_result"
    }
   ],
   "source": [
    "a3.dtype"
   ]
  },
  {
   "cell_type": "code",
   "execution_count": 18,
   "id": "0c5979ee-f7b3-4395-986e-ced042c100f6",
   "metadata": {},
   "outputs": [],
   "source": [
    "a4=np.array([1,3,4,5,6],dtype='i4')"
   ]
  },
  {
   "cell_type": "code",
   "execution_count": 19,
   "id": "dd6299c3-1187-4283-8e7b-b9953522f418",
   "metadata": {},
   "outputs": [
    {
     "data": {
      "text/plain": [
       "dtype('int32')"
      ]
     },
     "execution_count": 19,
     "metadata": {},
     "output_type": "execute_result"
    }
   ],
   "source": [
    "a4.dtype"
   ]
  },
  {
   "cell_type": "markdown",
   "id": "d26f9495-6b7a-4467-9186-ddbac6681a38",
   "metadata": {},
   "source": [
    "## Converting datatypes on existing arrays"
   ]
  },
  {
   "cell_type": "code",
   "execution_count": 20,
   "id": "5259128c-6c05-4aeb-bbf8-566254c0157a",
   "metadata": {},
   "outputs": [],
   "source": [
    "a5=np.array([1.1,1.2,2.3,4.5])"
   ]
  },
  {
   "cell_type": "code",
   "execution_count": 22,
   "id": "8f42026e-a73a-438c-b9d2-be45f6ee8332",
   "metadata": {},
   "outputs": [],
   "source": [
    "newa5=a5.astype('i')"
   ]
  },
  {
   "cell_type": "code",
   "execution_count": 23,
   "id": "199a4220-3336-41a7-9228-4b68d8884db0",
   "metadata": {},
   "outputs": [
    {
     "data": {
      "text/plain": [
       "array([1, 1, 2, 4], dtype=int32)"
      ]
     },
     "execution_count": 23,
     "metadata": {},
     "output_type": "execute_result"
    }
   ],
   "source": [
    "newa5"
   ]
  },
  {
   "cell_type": "code",
   "execution_count": 24,
   "id": "692cb66b-c9e0-4edf-9136-3ecc2e0af3ec",
   "metadata": {},
   "outputs": [],
   "source": [
    "nnew=newa5.astype(bool\n",
    "                 )"
   ]
  },
  {
   "cell_type": "code",
   "execution_count": 25,
   "id": "cefd4be3-51b0-45b9-8c57-7cbe9b05d06a",
   "metadata": {},
   "outputs": [
    {
     "data": {
      "text/plain": [
       "array([ True,  True,  True,  True])"
      ]
     },
     "execution_count": 25,
     "metadata": {},
     "output_type": "execute_result"
    }
   ],
   "source": [
    "nnew"
   ]
  },
  {
   "cell_type": "markdown",
   "id": "ee5899a0-7b33-4f58-92b9-e2632b779b5b",
   "metadata": {},
   "source": [
    "# Random number in numpy\n",
    "-numpy offers the random modeule to work with random numbers"
   ]
  },
  {
   "cell_type": "code",
   "execution_count": 26,
   "id": "83150160-8600-4028-a19a-cff706b9c580",
   "metadata": {},
   "outputs": [],
   "source": [
    "from numpy import random\n",
    "x=random.randint(100)"
   ]
  },
  {
   "cell_type": "code",
   "execution_count": 27,
   "id": "343560dd-1a8c-4568-a4db-565abe42076a",
   "metadata": {},
   "outputs": [
    {
     "data": {
      "text/plain": [
       "54"
      ]
     },
     "execution_count": 27,
     "metadata": {},
     "output_type": "execute_result"
    }
   ],
   "source": [
    "x"
   ]
  },
  {
   "cell_type": "markdown",
   "id": "e2579a3c-0ba1-458c-9945-a175613911aa",
   "metadata": {},
   "source": [
    "## generate random float \n",
    "- the random module's rand() method reutrns a random float between 0 and 1."
   ]
  },
  {
   "cell_type": "code",
   "execution_count": 28,
   "id": "a0fb13c9-a23b-4333-987f-f3c5d9462f84",
   "metadata": {},
   "outputs": [],
   "source": [
    "x=random.rand()"
   ]
  },
  {
   "cell_type": "code",
   "execution_count": 29,
   "id": "468f07f0-0db2-426c-8b6c-b472ced16e72",
   "metadata": {},
   "outputs": [
    {
     "data": {
      "text/plain": [
       "0.21096043824823696"
      ]
     },
     "execution_count": 29,
     "metadata": {},
     "output_type": "execute_result"
    }
   ],
   "source": [
    "x"
   ]
  },
  {
   "cell_type": "code",
   "execution_count": 30,
   "id": "acf28646-634c-4bf6-9cbe-59862901fa07",
   "metadata": {},
   "outputs": [],
   "source": [
    "x1=random.rand()"
   ]
  },
  {
   "cell_type": "code",
   "execution_count": 31,
   "id": "3a8a7924-c3aa-4130-af1b-793f9bbb18e5",
   "metadata": {},
   "outputs": [
    {
     "data": {
      "text/plain": [
       "0.17029316390330518"
      ]
     },
     "execution_count": 31,
     "metadata": {},
     "output_type": "execute_result"
    }
   ],
   "source": [
    "x1"
   ]
  },
  {
   "cell_type": "markdown",
   "id": "fd9017e8-76fc-4d3a-84f4-dbb371f32bc5",
   "metadata": {},
   "source": [
    "## generate random array"
   ]
  },
  {
   "cell_type": "code",
   "execution_count": 32,
   "id": "fd33dce0-00ff-4133-970a-c169818e5829",
   "metadata": {},
   "outputs": [],
   "source": [
    "x=random.randint(100,size=(5))"
   ]
  },
  {
   "cell_type": "code",
   "execution_count": 33,
   "id": "1349fcbb-3ade-4068-b75b-98ae4ff6ae2e",
   "metadata": {},
   "outputs": [
    {
     "data": {
      "text/plain": [
       "array([18, 14, 57, 91, 25], dtype=int32)"
      ]
     },
     "execution_count": 33,
     "metadata": {},
     "output_type": "execute_result"
    }
   ],
   "source": [
    "x"
   ]
  },
  {
   "cell_type": "code",
   "execution_count": 36,
   "id": "8f6cb1d5-50e2-4ec4-83b7-2fc44e60a54f",
   "metadata": {},
   "outputs": [],
   "source": [
    "x=random.randint(100,size=(15))"
   ]
  },
  {
   "cell_type": "code",
   "execution_count": 37,
   "id": "9f5415fb-d5e2-4389-8aa0-06d94b165456",
   "metadata": {},
   "outputs": [
    {
     "data": {
      "text/plain": [
       "array([ 1, 13,  3, 21, 55,  3,  3,  7, 76, 36,  8, 72, 90, 26, 88],\n",
       "      dtype=int32)"
      ]
     },
     "execution_count": 37,
     "metadata": {},
     "output_type": "execute_result"
    }
   ],
   "source": [
    "x"
   ]
  },
  {
   "cell_type": "markdown",
   "id": "674f0848-ecfa-42fa-bf07-07b909742457",
   "metadata": {},
   "source": [
    "### making 2 d arrays"
   ]
  },
  {
   "cell_type": "code",
   "execution_count": 38,
   "id": "0edf6d70-bc8a-45d7-be6e-63c55af181ca",
   "metadata": {},
   "outputs": [],
   "source": [
    "x =random .randint(100,size=(3,4))"
   ]
  },
  {
   "cell_type": "code",
   "execution_count": 39,
   "id": "ed8bfecf-f637-4f68-8ba8-da5d312c4d1d",
   "metadata": {},
   "outputs": [
    {
     "data": {
      "text/plain": [
       "array([[ 0, 48, 31, 64],\n",
       "       [77, 61, 30, 12],\n",
       "       [67, 39, 47, 69]], dtype=int32)"
      ]
     },
     "execution_count": 39,
     "metadata": {},
     "output_type": "execute_result"
    }
   ],
   "source": [
    "x"
   ]
  },
  {
   "cell_type": "markdown",
   "id": "dcc1764c-3335-4b14-b6a7-41da3f832708",
   "metadata": {},
   "source": [
    "## floats \n",
    "-rand() method also allow yout to specify the shape of the array \n"
   ]
  },
  {
   "cell_type": "code",
   "execution_count": 40,
   "id": "c4a265d0-100d-40f0-bb70-c8bf7390a3ba",
   "metadata": {},
   "outputs": [],
   "source": [
    "x=random.rand(5)"
   ]
  },
  {
   "cell_type": "code",
   "execution_count": 41,
   "id": "73f229a3-fbe5-4b57-bc3e-9600df28cec6",
   "metadata": {},
   "outputs": [
    {
     "data": {
      "text/plain": [
       "array([0.98414743, 0.75005735, 0.57891281, 0.25340356, 0.892756  ])"
      ]
     },
     "execution_count": 41,
     "metadata": {},
     "output_type": "execute_result"
    }
   ],
   "source": [
    "x"
   ]
  },
  {
   "cell_type": "code",
   "execution_count": 42,
   "id": "14ccfdd7-9411-43cf-94fe-4f26dd89564f",
   "metadata": {},
   "outputs": [],
   "source": [
    "x=random.rand(3,4)"
   ]
  },
  {
   "cell_type": "code",
   "execution_count": 43,
   "id": "1675e0f1-8752-4e07-a9bb-3a30cff25956",
   "metadata": {},
   "outputs": [
    {
     "data": {
      "text/plain": [
       "array([[0.52394573, 0.86434787, 0.0801385 , 0.94711534],\n",
       "       [0.32421452, 0.64292752, 0.42157591, 0.13468124],\n",
       "       [0.15810069, 0.84207353, 0.94228135, 0.00991152]])"
      ]
     },
     "execution_count": 43,
     "metadata": {},
     "output_type": "execute_result"
    }
   ],
   "source": [
    "x\n"
   ]
  },
  {
   "cell_type": "code",
   "execution_count": null,
   "id": "bac5f8a2-b13a-43a7-8040-9f59c931113d",
   "metadata": {},
   "outputs": [],
   "source": []
  }
 ],
 "metadata": {
  "kernelspec": {
   "display_name": "Python [conda env:base] *",
   "language": "python",
   "name": "conda-base-py"
  },
  "language_info": {
   "codemirror_mode": {
    "name": "ipython",
    "version": 3
   },
   "file_extension": ".py",
   "mimetype": "text/x-python",
   "name": "python",
   "nbconvert_exporter": "python",
   "pygments_lexer": "ipython3",
   "version": "3.13.5"
  }
 },
 "nbformat": 4,
 "nbformat_minor": 5
}
