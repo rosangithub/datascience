{
 "cells": [
  {
   "cell_type": "markdown",
   "id": "dd8b4813",
   "metadata": {},
   "source": [
    "## Numpy array operations"
   ]
  },
  {
   "cell_type": "code",
   "execution_count": 1,
   "id": "3731fc26",
   "metadata": {},
   "outputs": [],
   "source": [
    "import numpy as np"
   ]
  },
  {
   "cell_type": "code",
   "execution_count": 2,
   "id": "03c63362",
   "metadata": {},
   "outputs": [
    {
     "name": "stdout",
     "output_type": "stream",
     "text": [
      "basic slicing: [3 4 5 6 7]\n",
      "with step: [3 5 7]\n",
      "negative indexing: 8\n"
     ]
    }
   ],
   "source": [
    "arr=np.array([1,2,3,4,5,6,7,8,9])\n",
    "print(\"basic slicing:\",arr[2:7])\n",
    "print(\"with step:\",arr[2:-1:2])\n",
    "print(\"negative indexing:\",arr[-2])"
   ]
  },
  {
   "cell_type": "code",
   "execution_count": 3,
   "id": "e1db0fe3",
   "metadata": {},
   "outputs": [
    {
     "name": "stdout",
     "output_type": "stream",
     "text": [
      "specific element: 6\n",
      "entrire row: [4 5 6]\n",
      "third row: [7 8 9]\n",
      "entire column: [2 5 8]\n",
      "0 column: [1 4 7]\n",
      "3 rd column: [3 6 9]\n"
     ]
    }
   ],
   "source": [
    "arr2d=np.array([[1,2,3],\n",
    "                [4,5,6],\n",
    "                [7,8,9]])\n",
    "print(\"specific element:\",arr2d[1,2])\n",
    "print(\"entrire row:\",arr2d[1])\n",
    "print(\"third row:\",arr2d[2])\n",
    "print(\"entire column:\",arr2d[:,1])\n",
    "print(\"0 column:\",arr2d[:,0])\n",
    "print(\"3 rd column:\",arr2d[:,2])"
   ]
  },
  {
   "cell_type": "markdown",
   "id": "7d9da993",
   "metadata": {},
   "source": [
    "## sorting"
   ]
  },
  {
   "cell_type": "code",
   "execution_count": 4,
   "id": "4e08424f",
   "metadata": {},
   "outputs": [],
   "source": [
    "unsorted=np.array([3,4,1,6,7,8,13,56,78,44,100])"
   ]
  },
  {
   "cell_type": "code",
   "execution_count": 5,
   "id": "9f321763",
   "metadata": {},
   "outputs": [
    {
     "name": "stdout",
     "output_type": "stream",
     "text": [
      "unsorted array [  3   4   1   6   7   8  13  56  78  44 100]\n"
     ]
    }
   ],
   "source": [
    "print(\"unsorted array\",unsorted)"
   ]
  },
  {
   "cell_type": "code",
   "execution_count": 6,
   "id": "7eab79a6",
   "metadata": {},
   "outputs": [
    {
     "name": "stdout",
     "output_type": "stream",
     "text": [
      "sorted array: [  1   3   4   6   7   8  13  44  56  78 100]\n"
     ]
    }
   ],
   "source": [
    "print('sorted array:',np.sort(unsorted))"
   ]
  },
  {
   "cell_type": "code",
   "execution_count": 7,
   "id": "670338d7",
   "metadata": {},
   "outputs": [],
   "source": [
    "arr_2d_unsorted=np.array([[1,10,22,4],\n",
    "                          [3,55,6,1],\n",
    "                          [6,8,3,7]])"
   ]
  },
  {
   "cell_type": "code",
   "execution_count": 8,
   "id": "9280b48a",
   "metadata": {},
   "outputs": [
    {
     "name": "stdout",
     "output_type": "stream",
     "text": [
      "sorted 2D array by column: [[ 1  8  3  1]\n",
      " [ 3 10  6  4]\n",
      " [ 6 55 22  7]]\n"
     ]
    }
   ],
   "source": [
    "print(\"sorted 2D array by column:\",np.sort(arr_2d_unsorted,axis=0))"
   ]
  },
  {
   "cell_type": "markdown",
   "id": "1e012c12",
   "metadata": {},
   "source": [
    "## "
   ]
  },
  {
   "cell_type": "markdown",
   "id": "4d31262b",
   "metadata": {},
   "source": [
    "## Filtering\n"
   ]
  },
  {
   "cell_type": "code",
   "execution_count": 9,
   "id": "ba1a8358",
   "metadata": {},
   "outputs": [],
   "source": [
    "numbers=np.arange(0,12)"
   ]
  },
  {
   "cell_type": "code",
   "execution_count": 10,
   "id": "470c2cfb",
   "metadata": {},
   "outputs": [
    {
     "name": "stdout",
     "output_type": "stream",
     "text": [
      "numbers: [ 0  1  2  3  4  5  6  7  8  9 10 11]\n"
     ]
    }
   ],
   "source": [
    "print(\"numbers:\",numbers)"
   ]
  },
  {
   "cell_type": "code",
   "execution_count": 11,
   "id": "320ec36e",
   "metadata": {},
   "outputs": [
    {
     "name": "stdout",
     "output_type": "stream",
     "text": [
      "even numbers: [ 0  2  4  6  8 10]\n",
      "odd number: [ 1  3  5  7  9 11]\n"
     ]
    }
   ],
   "source": [
    "even_numbers=numbers[numbers % 2==0]\n",
    "print(\"even numbers:\",even_numbers)\n",
    "odd_numbers=numbers[numbers % 2!=0]\n",
    "print(\"odd number:\",odd_numbers)"
   ]
  },
  {
   "cell_type": "markdown",
   "id": "4914d7a2",
   "metadata": {},
   "source": [
    "## Fiter with mask"
   ]
  },
  {
   "cell_type": "code",
   "execution_count": 12,
   "id": "e3a68535",
   "metadata": {},
   "outputs": [
    {
     "name": "stdout",
     "output_type": "stream",
     "text": [
      "nubers greater than 5 [ 6  7  8  9 10 11]\n"
     ]
    }
   ],
   "source": [
    "mask=numbers>5\n",
    "print(\"nubers greater than 5\",numbers[mask])"
   ]
  },
  {
   "cell_type": "code",
   "execution_count": 13,
   "id": "54751e51",
   "metadata": {},
   "outputs": [],
   "source": [
    "num=numbers<10"
   ]
  },
  {
   "cell_type": "code",
   "execution_count": 14,
   "id": "7642b1fe",
   "metadata": {},
   "outputs": [
    {
     "name": "stdout",
     "output_type": "stream",
     "text": [
      "number less than 10 [0 1 2 3 4 5 6 7 8 9]\n"
     ]
    }
   ],
   "source": [
    "print(\"number less than 10\",numbers[num])"
   ]
  },
  {
   "cell_type": "markdown",
   "id": "811b0a09",
   "metadata": {},
   "source": [
    "## fancy indexing and np.where()"
   ]
  },
  {
   "cell_type": "code",
   "execution_count": 15,
   "id": "83391de4",
   "metadata": {},
   "outputs": [
    {
     "name": "stdout",
     "output_type": "stream",
     "text": [
      "[0 1 4 6 5]\n",
      "where result (array([ 6,  7,  8,  9, 10, 11]),)\n"
     ]
    }
   ],
   "source": [
    "index=[0,1,4,6,5]\n",
    "print(numbers[index])\n",
    "where_result=np.where(numbers>5)\n",
    "print(\"where result\",where_result)"
   ]
  },
  {
   "cell_type": "code",
   "execution_count": 17,
   "id": "e282cb8b",
   "metadata": {},
   "outputs": [
    {
     "name": "stdout",
     "output_type": "stream",
     "text": [
      "[ 0  1  2  3  4  5 24 28 32 36 40 44]\n"
     ]
    }
   ],
   "source": [
    "condition_array=np.where(numbers > 5,numbers*4,numbers)\n",
    "print(condition_array)"
   ]
  },
  {
   "cell_type": "markdown",
   "id": "7f3464e7-b87a-4c12-8bdf-035048718426",
   "metadata": {},
   "source": [
    "### Adding and Removing the data\n"
   ]
  },
  {
   "cell_type": "code",
   "execution_count": 18,
   "id": "38ab2bca-9fdf-4b08-a58b-d74202841e9c",
   "metadata": {},
   "outputs": [],
   "source": [
    "arr1=np.array([1,2,3])\n",
    "arr2=np.array([4,5,6])"
   ]
  },
  {
   "cell_type": "code",
   "execution_count": 19,
   "id": "8a826ae7-0a48-4e42-8bc4-0f32ba1efba8",
   "metadata": {},
   "outputs": [],
   "source": [
    "combined=arr1 + arr2"
   ]
  },
  {
   "cell_type": "code",
   "execution_count": 20,
   "id": "e36b22f9-dad0-43bf-a5d2-888c5b45dba6",
   "metadata": {},
   "outputs": [
    {
     "data": {
      "text/plain": [
       "array([5, 7, 9])"
      ]
     },
     "execution_count": 20,
     "metadata": {},
     "output_type": "execute_result"
    }
   ],
   "source": [
    "combined"
   ]
  },
  {
   "cell_type": "code",
   "execution_count": 23,
   "id": "68c442c0-4073-4319-b714-e29d87b24c3c",
   "metadata": {},
   "outputs": [],
   "source": [
    "combined=np.concatenate((arr1,arr2))\n"
   ]
  },
  {
   "cell_type": "code",
   "execution_count": 24,
   "id": "afd9fe90-de3e-4965-a09a-a786928adaeb",
   "metadata": {},
   "outputs": [
    {
     "data": {
      "text/plain": [
       "array([1, 2, 3, 4, 5, 6])"
      ]
     },
     "execution_count": 24,
     "metadata": {},
     "output_type": "execute_result"
    }
   ],
   "source": [
    "combined"
   ]
  },
  {
   "cell_type": "markdown",
   "id": "ad63831d-648f-4f4b-bdd2-88f6c4d30bc4",
   "metadata": {},
   "source": [
    "### array compatibility"
   ]
  },
  {
   "cell_type": "code",
   "execution_count": 29,
   "id": "ca456dda-753b-4f02-be5f-cf6df78c21e1",
   "metadata": {},
   "outputs": [],
   "source": [
    "a=np.array([1,2,3])\n",
    "b=np.array([4,5,6,5])\n",
    "c=np.array([7,8,9])"
   ]
  },
  {
   "cell_type": "code",
   "execution_count": 30,
   "id": "5608107f-e5e0-4801-b567-28730d7f3ebf",
   "metadata": {},
   "outputs": [
    {
     "name": "stdout",
     "output_type": "stream",
     "text": [
      "compatibility shape False\n"
     ]
    }
   ],
   "source": [
    "print(\"compatibility shape\",a.shape==b.shape)"
   ]
  },
  {
   "cell_type": "code",
   "execution_count": 32,
   "id": "289a7948-53cc-40c1-a2c9-e15a2453182b",
   "metadata": {},
   "outputs": [
    {
     "name": "stdout",
     "output_type": "stream",
     "text": [
      "compacitbility shape: True\n"
     ]
    }
   ],
   "source": [
    "print(\"compacitbility shape:\",a.shape==c.shape)"
   ]
  },
  {
   "cell_type": "code",
   "execution_count": 42,
   "id": "3fb3bfa1-0829-4667-9640-420ac35a7003",
   "metadata": {},
   "outputs": [],
   "source": [
    "original=np.array([[1,2],[3,4]])"
   ]
  },
  {
   "cell_type": "code",
   "execution_count": 43,
   "id": "374d5040-45ec-40ca-bbb2-5553567b14f2",
   "metadata": {},
   "outputs": [],
   "source": [
    "new_row=np.array([[5,6]])"
   ]
  },
  {
   "cell_type": "code",
   "execution_count": 44,
   "id": "0a81b109-f159-4646-8aba-3c24f3251327",
   "metadata": {},
   "outputs": [],
   "source": [
    "with_new_row=np.vstack((original,new_row))"
   ]
  },
  {
   "cell_type": "code",
   "execution_count": 45,
   "id": "fbda75bc-c88c-4175-911c-75b738d2a2e8",
   "metadata": {},
   "outputs": [
    {
     "data": {
      "text/plain": [
       "array([[1, 2],\n",
       "       [3, 4],\n",
       "       [5, 6]])"
      ]
     },
     "execution_count": 45,
     "metadata": {},
     "output_type": "execute_result"
    }
   ],
   "source": [
    "with_new_row"
   ]
  },
  {
   "cell_type": "code",
   "execution_count": 46,
   "id": "2aeee7dc-3cc9-4ae2-829e-6ba90b4ec5db",
   "metadata": {},
   "outputs": [],
   "source": [
    "new_col=np.array([[8],[9]])"
   ]
  },
  {
   "cell_type": "code",
   "execution_count": 47,
   "id": "f4b42f5b-9bac-485d-9cb3-3f7ae4e0301e",
   "metadata": {},
   "outputs": [],
   "source": [
    "with_new_col=np.hstack((original,new_col))"
   ]
  },
  {
   "cell_type": "code",
   "execution_count": 49,
   "id": "ffd94086-f6fe-4c38-a71f-67ccad316c80",
   "metadata": {},
   "outputs": [
    {
     "name": "stdout",
     "output_type": "stream",
     "text": [
      "with new column: [[1 2 8]\n",
      " [3 4 9]]\n"
     ]
    }
   ],
   "source": [
    "print(\"with new column:\",with_new_col)"
   ]
  },
  {
   "cell_type": "code",
   "execution_count": 52,
   "id": "1716773e-f519-425b-9c56-9a14b8be44f6",
   "metadata": {},
   "outputs": [
    {
     "name": "stdout",
     "output_type": "stream",
     "text": [
      "array after deletion : [1 3 4 5 5]\n"
     ]
    }
   ],
   "source": [
    "arr=np.array([1,3,4,4,5,5])\n",
    "deleted=np.delete(arr,2)\n",
    "print(\"array after deletion :\",deleted)"
   ]
  },
  {
   "cell_type": "code",
   "execution_count": null,
   "id": "84e41e3d-e3bf-4fd3-9f3d-1b0f3da3125d",
   "metadata": {},
   "outputs": [],
   "source": []
  }
 ],
 "metadata": {
  "kernelspec": {
   "display_name": "Python 3 (ipykernel)",
   "language": "python",
   "name": "python3"
  },
  "language_info": {
   "codemirror_mode": {
    "name": "ipython",
    "version": 3
   },
   "file_extension": ".py",
   "mimetype": "text/x-python",
   "name": "python",
   "nbconvert_exporter": "python",
   "pygments_lexer": "ipython3",
   "version": "3.13.5"
  }
 },
 "nbformat": 4,
 "nbformat_minor": 5
}
