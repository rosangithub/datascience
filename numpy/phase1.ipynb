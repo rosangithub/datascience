{
 "cells": [
  {
   "cell_type": "markdown",
   "id": "7ac3dabf",
   "metadata": {},
   "source": [
    "## Numpy array basics"
   ]
  },
  {
   "cell_type": "code",
   "execution_count": 3,
   "id": "91cbf39c",
   "metadata": {},
   "outputs": [],
   "source": [
    "import numpy as np"
   ]
  },
  {
   "cell_type": "markdown",
   "id": "f0c6a5e8",
   "metadata": {},
   "source": [
    "## creating array from list"
   ]
  },
  {
   "cell_type": "code",
   "execution_count": 4,
   "id": "f34ecc90",
   "metadata": {},
   "outputs": [],
   "source": [
    "arr1d=np.array([12,4,5,6])\n"
   ]
  },
  {
   "cell_type": "code",
   "execution_count": 5,
   "id": "37c3ccf7",
   "metadata": {},
   "outputs": [
    {
     "name": "stdout",
     "output_type": "stream",
     "text": [
      "[12  4  5  6]\n"
     ]
    }
   ],
   "source": [
    "print(arr1d)"
   ]
  },
  {
   "cell_type": "markdown",
   "id": "ea4da73a",
   "metadata": {},
   "source": [
    "## list vs numpy"
   ]
  },
  {
   "cell_type": "code",
   "execution_count": 6,
   "id": "2fdb7526",
   "metadata": {},
   "outputs": [
    {
     "name": "stdout",
     "output_type": "stream",
     "text": [
      "python list multiplication [1, 2, 3, 4, 1, 2, 3, 4]\n"
     ]
    }
   ],
   "source": [
    "list1=[1,2,3,4]\n",
    "print(\"python list multiplication\",list1*2)\n"
   ]
  },
  {
   "cell_type": "code",
   "execution_count": 7,
   "id": "5210bb3a",
   "metadata": {},
   "outputs": [
    {
     "name": "stdout",
     "output_type": "stream",
     "text": [
      "numpy multiplication : [24  8 10 12]\n"
     ]
    }
   ],
   "source": [
    "print(\"numpy multiplication :\",arr1d*2)"
   ]
  },
  {
   "cell_type": "code",
   "execution_count": 8,
   "id": "6e3466bf",
   "metadata": {},
   "outputs": [],
   "source": [
    "import time"
   ]
  },
  {
   "cell_type": "code",
   "execution_count": 9,
   "id": "48f4aa8e",
   "metadata": {},
   "outputs": [
    {
     "name": "stdout",
     "output_type": "stream",
     "text": [
      "\n",
      " list operation time : 0.007963180541992188\n"
     ]
    }
   ],
   "source": [
    "start=time.time()\n",
    "list1=[i*2 for i in range(100000)]\n",
    "print(\"\\n list operation time :\",time.time()-start)"
   ]
  },
  {
   "cell_type": "code",
   "execution_count": 10,
   "id": "1d8deab1",
   "metadata": {},
   "outputs": [
    {
     "name": "stdout",
     "output_type": "stream",
     "text": [
      "\n",
      " numpy operation time: 0.0003800392150878906\n"
     ]
    }
   ],
   "source": [
    "start=time.time()\n",
    "arr2=np.arange(100000)\n",
    "print(\"\\n numpy operation time:\",time.time()-start)\n"
   ]
  },
  {
   "cell_type": "markdown",
   "id": "e6843cc4",
   "metadata": {},
   "source": [
    "## creating array from the scratch"
   ]
  },
  {
   "cell_type": "code",
   "execution_count": 11,
   "id": "525ab4d4",
   "metadata": {},
   "outputs": [
    {
     "name": "stdout",
     "output_type": "stream",
     "text": [
      "zeros array:\n",
      " [[0. 0. 0. 0.]\n",
      " [0. 0. 0. 0.]\n",
      " [0. 0. 0. 0.]]\n"
     ]
    }
   ],
   "source": [
    "zeros=np.zeros((3,4))\n",
    "print(\"zeros array:\\n\",zeros)"
   ]
  },
  {
   "cell_type": "code",
   "execution_count": 12,
   "id": "f7373fca",
   "metadata": {},
   "outputs": [
    {
     "data": {
      "text/plain": [
       "array([[1., 1., 1.],\n",
       "       [1., 1., 1.]])"
      ]
     },
     "execution_count": 12,
     "metadata": {},
     "output_type": "execute_result"
    }
   ],
   "source": [
    "ones=np.ones((2,3))\n",
    "ones"
   ]
  },
  {
   "cell_type": "code",
   "execution_count": 13,
   "id": "8f31fc34",
   "metadata": {},
   "outputs": [],
   "source": [
    "full=np.full((2,2),7)"
   ]
  },
  {
   "cell_type": "code",
   "execution_count": 14,
   "id": "f1f92f94",
   "metadata": {},
   "outputs": [
    {
     "data": {
      "text/plain": [
       "array([[7, 7],\n",
       "       [7, 7]])"
      ]
     },
     "execution_count": 14,
     "metadata": {},
     "output_type": "execute_result"
    }
   ],
   "source": [
    "full"
   ]
  },
  {
   "cell_type": "code",
   "execution_count": 15,
   "id": "c74d50ac",
   "metadata": {},
   "outputs": [],
   "source": [
    "random=np.random.random((2,3))"
   ]
  },
  {
   "cell_type": "code",
   "execution_count": 16,
   "id": "64ec1a71",
   "metadata": {},
   "outputs": [
    {
     "data": {
      "text/plain": [
       "array([[0.43175663, 0.29295759, 0.66857712],\n",
       "       [0.84155865, 0.12244034, 0.42340053]])"
      ]
     },
     "execution_count": 16,
     "metadata": {},
     "output_type": "execute_result"
    }
   ],
   "source": [
    "random"
   ]
  },
  {
   "cell_type": "code",
   "execution_count": 17,
   "id": "f5f5b2c5",
   "metadata": {},
   "outputs": [],
   "source": [
    "sequnce=np.arange(0,10)"
   ]
  },
  {
   "cell_type": "code",
   "execution_count": 18,
   "id": "865ed7a2",
   "metadata": {},
   "outputs": [
    {
     "data": {
      "text/plain": [
       "array([0, 1, 2, 3, 4, 5, 6, 7, 8, 9])"
      ]
     },
     "execution_count": 18,
     "metadata": {},
     "output_type": "execute_result"
    }
   ],
   "source": [
    "sequnce"
   ]
  },
  {
   "cell_type": "code",
   "execution_count": 19,
   "id": "4d9cb9d5",
   "metadata": {},
   "outputs": [],
   "source": [
    "sequence=np.arange(1,100,2)"
   ]
  },
  {
   "cell_type": "code",
   "execution_count": 20,
   "id": "1f660045",
   "metadata": {},
   "outputs": [
    {
     "data": {
      "text/plain": [
       "array([ 1,  3,  5,  7,  9, 11, 13, 15, 17, 19, 21, 23, 25, 27, 29, 31, 33,\n",
       "       35, 37, 39, 41, 43, 45, 47, 49, 51, 53, 55, 57, 59, 61, 63, 65, 67,\n",
       "       69, 71, 73, 75, 77, 79, 81, 83, 85, 87, 89, 91, 93, 95, 97, 99])"
      ]
     },
     "execution_count": 20,
     "metadata": {},
     "output_type": "execute_result"
    }
   ],
   "source": [
    "sequence"
   ]
  },
  {
   "cell_type": "markdown",
   "id": "62ce8539",
   "metadata": {},
   "source": [
    "## vector,matrics, tensor "
   ]
  },
  {
   "cell_type": "code",
   "execution_count": 21,
   "id": "aad48bb4",
   "metadata": {},
   "outputs": [
    {
     "name": "stdout",
     "output_type": "stream",
     "text": [
      "vector: [1 2 3 4 5]\n"
     ]
    }
   ],
   "source": [
    "vector=np.array([1,2,3,4,5])\n",
    "print(\"vector:\",vector)"
   ]
  },
  {
   "cell_type": "code",
   "execution_count": 22,
   "id": "c3706b13",
   "metadata": {},
   "outputs": [],
   "source": [
    "matrix=np.array([[1,2,3],[4,5,6]])"
   ]
  },
  {
   "cell_type": "code",
   "execution_count": 23,
   "id": "51ce1963",
   "metadata": {},
   "outputs": [
    {
     "data": {
      "text/plain": [
       "array([[1, 2, 3],\n",
       "       [4, 5, 6]])"
      ]
     },
     "execution_count": 23,
     "metadata": {},
     "output_type": "execute_result"
    }
   ],
   "source": [
    "matrix"
   ]
  },
  {
   "cell_type": "code",
   "execution_count": 24,
   "id": "cf9f2363",
   "metadata": {},
   "outputs": [],
   "source": [
    "tensor=np.array([[[1,2,3],[4,5,6],[7,8,9]]])"
   ]
  },
  {
   "cell_type": "code",
   "execution_count": 26,
   "id": "776bea2e",
   "metadata": {},
   "outputs": [
    {
     "data": {
      "text/plain": [
       "array([[[1, 2, 3],\n",
       "        [4, 5, 6],\n",
       "        [7, 8, 9]]])"
      ]
     },
     "execution_count": 26,
     "metadata": {},
     "output_type": "execute_result"
    }
   ],
   "source": [
    "tensor"
   ]
  },
  {
   "cell_type": "markdown",
   "id": "2e64ac03",
   "metadata": {},
   "source": [
    "## array properties "
   ]
  },
  {
   "cell_type": "code",
   "execution_count": 27,
   "id": "f5962741",
   "metadata": {},
   "outputs": [],
   "source": [
    "arr=np.array([[1,2,3],[4,5,6]])"
   ]
  },
  {
   "cell_type": "code",
   "execution_count": 28,
   "id": "aec33271",
   "metadata": {},
   "outputs": [
    {
     "name": "stdout",
     "output_type": "stream",
     "text": [
      "shape of  array: (2, 3)\n"
     ]
    }
   ],
   "source": [
    "print(\"shape of  array:\",arr.shape)"
   ]
  },
  {
   "cell_type": "code",
   "execution_count": 29,
   "id": "8dc4566f",
   "metadata": {},
   "outputs": [
    {
     "data": {
      "text/plain": [
       "2"
      ]
     },
     "execution_count": 29,
     "metadata": {},
     "output_type": "execute_result"
    }
   ],
   "source": [
    "arr.ndim"
   ]
  },
  {
   "cell_type": "code",
   "execution_count": 30,
   "id": "169a1b8f",
   "metadata": {},
   "outputs": [
    {
     "data": {
      "text/plain": [
       "6"
      ]
     },
     "execution_count": 30,
     "metadata": {},
     "output_type": "execute_result"
    }
   ],
   "source": [
    "arr.size"
   ]
  },
  {
   "cell_type": "code",
   "execution_count": 31,
   "id": "f77981c2",
   "metadata": {},
   "outputs": [
    {
     "data": {
      "text/plain": [
       "dtype('int64')"
      ]
     },
     "execution_count": 31,
     "metadata": {},
     "output_type": "execute_result"
    }
   ],
   "source": [
    "arr.dtype"
   ]
  },
  {
   "cell_type": "markdown",
   "id": "7b03cd96",
   "metadata": {},
   "source": [
    "### array reshaping"
   ]
  },
  {
   "cell_type": "code",
   "execution_count": 39,
   "id": "0b04e8be",
   "metadata": {},
   "outputs": [],
   "source": [
    "arr=np.arange(0,12)"
   ]
  },
  {
   "cell_type": "code",
   "execution_count": 49,
   "id": "c56f6d9a",
   "metadata": {},
   "outputs": [
    {
     "name": "stdout",
     "output_type": "stream",
     "text": [
      "original array: [ 0  1  2  3  4  5  6  7  8  9 10 11]\n",
      "reshaped array: [[ 0  1  2  3]\n",
      " [ 4  5  6  7]\n",
      " [ 8  9 10 11]]\n",
      "flattened array: [ 0  1  2  3  4  5  6  7  8  9 10 11]\n",
      "ravelled array [ 0  1  2  3  4  5  6  7  8  9 10 11]\n",
      "trnsposed array:\n",
      " [[ 0  4  8]\n",
      " [ 1  5  9]\n",
      " [ 2  6 10]\n",
      " [ 3  7 11]]\n"
     ]
    }
   ],
   "source": [
    "arr\n",
    "print(\"original array:\",arr)\n",
    "reshaped = arr.reshape(3,4)\n",
    "print(\"reshaped array:\",reshaped)\n",
    "flattened=reshaped.flatten()\n",
    "print(\"flattened array:\",flattened)\n",
    "raveled=reshaped.ravel()\n",
    "#ravel is similar to flatten but returns a view if possible\n",
    "print(\"ravelled array\",raveled)\n",
    "# transpose \n",
    "transposed=reshaped.T\n",
    "print(\"trnsposed array:\\n\",transposed)"
   ]
  },
  {
   "cell_type": "code",
   "execution_count": null,
   "id": "b121b923",
   "metadata": {},
   "outputs": [],
   "source": []
  }
 ],
 "metadata": {
  "kernelspec": {
   "display_name": "venv",
   "language": "python",
   "name": "python3"
  },
  "language_info": {
   "codemirror_mode": {
    "name": "ipython",
    "version": 3
   },
   "file_extension": ".py",
   "mimetype": "text/x-python",
   "name": "python",
   "nbconvert_exporter": "python",
   "pygments_lexer": "ipython3",
   "version": "3.13.5"
  }
 },
 "nbformat": 4,
 "nbformat_minor": 5
}
