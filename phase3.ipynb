{
 "cells": [
  {
   "cell_type": "markdown",
   "id": "5c460e9e-010a-41fe-a3aa-a1ec29c02689",
   "metadata": {},
   "source": [
    "# Advance operation with Business example"
   ]
  },
  {
   "cell_type": "code",
   "execution_count": 3,
   "id": "2c1c9c5a-0d99-4654-ad39-1eacca3f4710",
   "metadata": {},
   "outputs": [],
   "source": [
    "import numpy as np\n",
    "import matplotlib.pyplot as plt"
   ]
  },
  {
   "cell_type": "code",
   "execution_count": 5,
   "id": "2bf3d5bc-3bcb-4e9d-acd1-8bd5e6bc6d92",
   "metadata": {},
   "outputs": [],
   "source": [
    "# data structure :[restaurant_id,2021,2022,2023,2024]\n",
    "sales_data=np.array([\n",
    "    [1,150000,180000,220000,250000],\n",
    "    [2,120000,140000,160000,190000],\n",
    "    [3,200000,230000,260000,300000],\n",
    "    [4,180000,210000,240000,270000],\n",
    "    [5,160000,185000,205000,230000],\n",
    "])"
   ]
  },
  {
   "cell_type": "code",
   "execution_count": 6,
   "id": "5b846062-e8fe-4f75-a580-5b6e94be5302",
   "metadata": {},
   "outputs": [
    {
     "name": "stdout",
     "output_type": "stream",
     "text": [
      "====== Sales andalysis========\n"
     ]
    }
   ],
   "source": [
    "print(\"====== Sales andalysis========\")"
   ]
  },
  {
   "cell_type": "code",
   "execution_count": 11,
   "id": "3173afce-3777-4219-870c-ce1f7a05c48b",
   "metadata": {},
   "outputs": [
    {
     "name": "stdout",
     "output_type": "stream",
     "text": [
      "shpe of the data : (5, 5)\n"
     ]
    }
   ],
   "source": [
    "\n",
    "print(\"shpe of the data :\",sales_data.shape)"
   ]
  },
  {
   "cell_type": "code",
   "execution_count": 13,
   "id": "87ab9006-cf41-4de0-bca2-c142792e7fe1",
   "metadata": {},
   "outputs": [
    {
     "name": "stdout",
     "output_type": "stream",
     "text": [
      "sample data for first 3 resturant\n",
      " [[     1 150000 180000 220000 250000]\n",
      " [     2 120000 140000 160000 190000]\n",
      " [     3 200000 230000 260000 300000]]\n"
     ]
    }
   ],
   "source": [
    "print(\"sample data for first 3 resturant\\n\",sales_data[:3])"
   ]
  },
  {
   "cell_type": "code",
   "execution_count": 14,
   "id": "6ee149fe-b1ee-48ca-bc20-a32a3fc650df",
   "metadata": {},
   "outputs": [
    {
     "data": {
      "text/plain": [
       "array([[150000, 180000, 220000, 250000],\n",
       "       [120000, 140000, 160000, 190000],\n",
       "       [200000, 230000, 260000, 300000],\n",
       "       [180000, 210000, 240000, 270000],\n",
       "       [160000, 185000, 205000, 230000]])"
      ]
     },
     "execution_count": 14,
     "metadata": {},
     "output_type": "execute_result"
    }
   ],
   "source": [
    "sales_data[:,1:]"
   ]
  },
  {
   "cell_type": "code",
   "execution_count": 16,
   "id": "7f3712b5-17b5-4349-92d7-f226c9e1f6a6",
   "metadata": {},
   "outputs": [
    {
     "data": {
      "text/plain": [
       "array([     15,  810000,  945000, 1085000, 1240000])"
      ]
     },
     "execution_count": 16,
     "metadata": {},
     "output_type": "execute_result"
    }
   ],
   "source": [
    "# total salse per year\n",
    "np.sum(sales_data,axis=0)"
   ]
  },
  {
   "cell_type": "code",
   "execution_count": 18,
   "id": "b3f48db1-d34e-4677-bd47-ad621bfbfb5e",
   "metadata": {},
   "outputs": [],
   "source": [
    "yearly_total=np.sum(sales_data[:,1:],axis=0)"
   ]
  },
  {
   "cell_type": "code",
   "execution_count": 19,
   "id": "5cf65524-f906-423f-9f7d-ff7a499d2131",
   "metadata": {},
   "outputs": [
    {
     "data": {
      "text/plain": [
       "array([ 810000,  945000, 1085000, 1240000])"
      ]
     },
     "execution_count": 19,
     "metadata": {},
     "output_type": "execute_result"
    }
   ],
   "source": [
    "yearly_total\n"
   ]
  },
  {
   "cell_type": "code",
   "execution_count": 20,
   "id": "1f3332ac-9d26-4019-8bb3-08015c3e117d",
   "metadata": {},
   "outputs": [],
   "source": [
    "# Minimum sales per resturant\n",
    "min_sales=np.min(sales_data[:,1:],axis=1)"
   ]
  },
  {
   "cell_type": "code",
   "execution_count": 21,
   "id": "2f6cd95b-b3eb-4692-bd52-0ab58d2a5e46",
   "metadata": {},
   "outputs": [
    {
     "data": {
      "text/plain": [
       "array([150000, 120000, 200000, 180000, 160000])"
      ]
     },
     "execution_count": 21,
     "metadata": {},
     "output_type": "execute_result"
    }
   ],
   "source": [
    "min_sales"
   ]
  },
  {
   "cell_type": "code",
   "execution_count": 22,
   "id": "522af151-e964-447a-99a8-2aa5c6bfecb5",
   "metadata": {},
   "outputs": [],
   "source": [
    "# maximum sales per year\n",
    "max_sale_per_year=np.max(sales_data[:,1:],axis=0)"
   ]
  },
  {
   "cell_type": "code",
   "execution_count": 23,
   "id": "c79acbe2-1dc9-44a4-bee9-d3b2e20ca282",
   "metadata": {},
   "outputs": [
    {
     "data": {
      "text/plain": [
       "array([200000, 230000, 260000, 300000])"
      ]
     },
     "execution_count": 23,
     "metadata": {},
     "output_type": "execute_result"
    }
   ],
   "source": [
    "max_sale_per_year"
   ]
  },
  {
   "cell_type": "code",
   "execution_count": 24,
   "id": "cffd96a8-221d-419c-a97c-9cbaf3a6c469",
   "metadata": {},
   "outputs": [],
   "source": [
    "# aveage per restaurant\n",
    "average_sales=np.average(sales_data[:,1:],axis=1)"
   ]
  },
  {
   "cell_type": "code",
   "execution_count": 25,
   "id": "247568af-a333-4332-9635-c29bf0297b2e",
   "metadata": {},
   "outputs": [
    {
     "data": {
      "text/plain": [
       "array([200000., 152500., 247500., 225000., 195000.])"
      ]
     },
     "execution_count": 25,
     "metadata": {},
     "output_type": "execute_result"
    }
   ],
   "source": [
    "average_sales"
   ]
  },
  {
   "cell_type": "code",
   "execution_count": 29,
   "id": "1cce99bb-6766-459c-9d74-8dd9b37ef8c7",
   "metadata": {},
   "outputs": [],
   "source": [
    "#cumulative sum\n",
    "cumsum=np.cumsum(sales_data[:, 1:],axis=1)"
   ]
  },
  {
   "cell_type": "code",
   "execution_count": 30,
   "id": "ef61be96-aff4-4511-8756-b967293e5032",
   "metadata": {},
   "outputs": [
    {
     "data": {
      "text/plain": [
       "array([[150000, 330000, 550000, 800000],\n",
       "       [120000, 260000, 420000, 610000],\n",
       "       [200000, 430000, 690000, 990000],\n",
       "       [180000, 390000, 630000, 900000],\n",
       "       [160000, 345000, 550000, 780000]])"
      ]
     },
     "execution_count": 30,
     "metadata": {},
     "output_type": "execute_result"
    }
   ],
   "source": [
    "cumsum"
   ]
  },
  {
   "cell_type": "code",
   "execution_count": 31,
   "id": "60f3df3d-a45e-4ac6-9d78-2ac1751502e6",
   "metadata": {},
   "outputs": [
    {
     "data": {
      "image/png": "[encoded data removed]",
      "text/plain": [
       "<Figure size 1000x500 with 1 Axes>"
      ]
     },
     "metadata": {},
     "output_type": "display_data"
    }
   ],
   "source": [
    "plt.figure(figsize=(10,5))\n",
    "plt.plot(np.mean(cumsum,axis=0))\n",
    "plt.title(\"Avergare cumulative sales per year across all resturant\")\n",
    "plt.xlabel(\"Years\")\n",
    "plt.ylabel(\"Sale\")\n",
    "plt.grid(True)\n",
    "plt.show()"
   ]
  },
  {
   "cell_type": "code",
   "execution_count": 37,
   "id": "25157868-5164-4ac6-8299-ad8ac51ba429",
   "metadata": {},
   "outputs": [],
   "source": [
    "vector1=np.array([1,2,3,4,5])\n",
    "vector2=np.array([6,7,8,9,10])\n",
    "vector_addition =vector1+vector2\n",
    "vecotor_mul=vector1*vector2"
   ]
  },
  {
   "cell_type": "code",
   "execution_count": 38,
   "id": "da2282ad-a299-4450-a64c-478f65419f5c",
   "metadata": {},
   "outputs": [
    {
     "data": {
      "text/plain": [
       "array([ 7,  9, 11, 13, 15])"
      ]
     },
     "execution_count": 38,
     "metadata": {},
     "output_type": "execute_result"
    }
   ],
   "source": [
    "vector_addition"
   ]
  },
  {
   "cell_type": "code",
   "execution_count": 39,
   "id": "e86df23d-1707-43bc-bf99-b67ea33e6844",
   "metadata": {},
   "outputs": [
    {
     "data": {
      "text/plain": [
       "array([ 6, 14, 24, 36, 50])"
      ]
     },
     "execution_count": 39,
     "metadata": {},
     "output_type": "execute_result"
    }
   ],
   "source": [
    "vecotor_mul"
   ]
  },
  {
   "cell_type": "code",
   "execution_count": 40,
   "id": "ac0aff65-1af1-4fe4-9c7b-e47e5e0c4dc2",
   "metadata": {},
   "outputs": [],
   "source": [
    "dot_product=np.dot(vector1,vector2)"
   ]
  },
  {
   "cell_type": "code",
   "execution_count": 42,
   "id": "716e66ac-28ef-4a61-bc4d-f8244262ed55",
   "metadata": {},
   "outputs": [
    {
     "data": {
      "text/plain": [
       "np.int64(130)"
      ]
     },
     "execution_count": 42,
     "metadata": {},
     "output_type": "execute_result"
    }
   ],
   "source": [
    "dot_product"
   ]
  },
  {
   "cell_type": "code",
   "execution_count": 48,
   "id": "77eb31a8-3db3-48df-9bad-368534d30dc3",
   "metadata": {},
   "outputs": [
    {
     "ename": "_IncompleteInputError",
     "evalue": "incomplete input (525030123.py, line 1)",
     "output_type": "error",
     "traceback": [
      "  \u001b[36mCell\u001b[39m\u001b[36m \u001b[39m\u001b[32mIn[48]\u001b[39m\u001b[32m, line 1\u001b[39m\n\u001b[31m    \u001b[39m\u001b[31mangle=np.arccos(np.dot(vector1,vector2)/(np.linalg.norm(vector1)* (np.linalg.norm(vector2))\u001b[39m\n                                                                                               ^\n\u001b[31m_IncompleteInputError\u001b[39m\u001b[31m:\u001b[39m incomplete input\n"
     ]
    }
   ],
   "source": [
    "angle=np.arccos(np.dot(vector1,vector2)/(np.linalg.norm(vector1)* (np.linalg.norm(vector2))"
   ]
  },
  {
   "cell_type": "code",
   "execution_count": null,
   "id": "0c0c8ac0-502d-444f-84d8-28e05456ab0d",
   "metadata": {},
   "outputs": [],
   "source": []
  },
  {
   "cell_type": "code",
   "execution_count": null,
   "id": "dbe9820c-ca0a-4acd-90b6-fc28b0e6c023",
   "metadata": {},
   "outputs": [],
   "source": []
  }
 ],
 "metadata": {
  "kernelspec": {
   "display_name": "Python [conda env:base] *",
   "language": "python",
   "name": "conda-base-py"
  },
  "language_info": {
   "codemirror_mode": {
    "name": "ipython",
    "version": 3
   },
   "file_extension": ".py",
   "mimetype": "text/x-python",
   "name": "python",
   "nbconvert_exporter": "python",
   "pygments_lexer": "ipython3",
   "version": "3.13.5"
  }
 },
 "nbformat": 4,
 "nbformat_minor": 5
}
