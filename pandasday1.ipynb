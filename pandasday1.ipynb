{
 "cells": [
  {
   "cell_type": "markdown",
   "id": "7b5554df-f795-4d68-b6de-3d624bb7905b",
   "metadata": {},
   "source": [
    "## where to use pandas\n",
    "- data manipulation\n",
    "- data visualization\n",
    "- \n"
   ]
  },
  {
   "cell_type": "code",
   "execution_count": 2,
   "id": "51ae45db-f214-4407-8576-ccf5e9702ec3",
   "metadata": {},
   "outputs": [
    {
     "name": "stdout",
     "output_type": "stream",
     "text": [
      "Requirement already satisfied: pandas in c:\\users\\user\\anaconda3\\lib\\site-packages (2.2.3)\n",
      "Requirement already satisfied: numpy>=1.26.0 in c:\\users\\user\\anaconda3\\lib\\site-packages (from pandas) (2.1.3)\n",
      "Requirement already satisfied: python-dateutil>=2.8.2 in c:\\users\\user\\appdata\\roaming\\python\\python313\\site-packages (from pandas) (2.9.0.post0)\n",
      "Requirement already satisfied: pytz>=2020.1 in c:\\users\\user\\anaconda3\\lib\\site-packages (from pandas) (2024.1)\n",
      "Requirement already satisfied: tzdata>=2022.7 in c:\\users\\user\\anaconda3\\lib\\site-packages (from pandas) (2025.2)\n",
      "Requirement already satisfied: six>=1.5 in c:\\users\\user\\appdata\\roaming\\python\\python313\\site-packages (from python-dateutil>=2.8.2->pandas) (1.17.0)\n",
      "Note: you may need to restart the kernel to use updated packages.\n"
     ]
    }
   ],
   "source": [
    "pip install pandas\n"
   ]
  },
  {
   "cell_type": "code",
   "execution_count": 3,
   "id": "1fabcd98-b472-4a96-8cfa-cc914486388f",
   "metadata": {},
   "outputs": [],
   "source": [
    "import pandas as pd"
   ]
  },
  {
   "cell_type": "code",
   "execution_count": 4,
   "id": "8ba056ca-aa77-4dfc-ba0f-7c583a260c14",
   "metadata": {},
   "outputs": [
    {
     "data": {
      "text/plain": [
       "'2.2.3'"
      ]
     },
     "execution_count": 4,
     "metadata": {},
     "output_type": "execute_result"
    }
   ],
   "source": [
    "pd.__version__"
   ]
  },
  {
   "cell_type": "markdown",
   "id": "ff83c7cb-8328-46d0-90e7-67122c971885",
   "metadata": {},
   "source": [
    "## key data structure\n",
    "- series=one list\n",
    "- dataframe=full table"
   ]
  },
  {
   "cell_type": "markdown",
   "id": "dd82dacc-8049-4e33-8b6b-da0ce34ead14",
   "metadata": {},
   "source": [
    "### pandas series"
   ]
  },
  {
   "cell_type": "code",
   "execution_count": 7,
   "id": "8522d68d-b5cb-4342-b0f5-a67f87176dd3",
   "metadata": {},
   "outputs": [],
   "source": [
    "sales=pd.Series([1,2,3])"
   ]
  },
  {
   "cell_type": "code",
   "execution_count": 8,
   "id": "04526a2e-984f-4bd6-9360-cacdd8b1b7a6",
   "metadata": {},
   "outputs": [
    {
     "data": {
      "text/plain": [
       "0    1\n",
       "1    2\n",
       "2    3\n",
       "dtype: int64"
      ]
     },
     "execution_count": 8,
     "metadata": {},
     "output_type": "execute_result"
    }
   ],
   "source": [
    "sales"
   ]
  },
  {
   "cell_type": "code",
   "execution_count": 13,
   "id": "d91199de-a142-419d-8f8f-ba19497bde52",
   "metadata": {},
   "outputs": [
    {
     "data": {
      "text/plain": [
       "np.int64(1)"
      ]
     },
     "execution_count": 13,
     "metadata": {},
     "output_type": "execute_result"
    }
   ],
   "source": [
    "sales[0]\n"
   ]
  },
  {
   "cell_type": "code",
   "execution_count": 15,
   "id": "b4bb7a60-67bf-48ab-a366-7ff86566f881",
   "metadata": {},
   "outputs": [
    {
     "data": {
      "text/plain": [
       "np.int64(2)"
      ]
     },
     "execution_count": 15,
     "metadata": {},
     "output_type": "execute_result"
    }
   ],
   "source": [
    "\n",
    "sales[1]"
   ]
  },
  {
   "cell_type": "code",
   "execution_count": 16,
   "id": "2deac369-9db3-4d71-949d-3a949fb90ee2",
   "metadata": {},
   "outputs": [
    {
     "data": {
      "text/plain": [
       "0    1\n",
       "1    2\n",
       "dtype: int64"
      ]
     },
     "execution_count": 16,
     "metadata": {},
     "output_type": "execute_result"
    }
   ],
   "source": [
    "sales[:2]# provide the data until n-1"
   ]
  },
  {
   "cell_type": "markdown",
   "id": "c64735a9-b6d8-4002-98ab-a00a052c71bd",
   "metadata": {},
   "source": [
    "## attributes"
   ]
  },
  {
   "cell_type": "code",
   "execution_count": 17,
   "id": "fac9f9f4-6c3c-4fec-b691-8a809dcfce23",
   "metadata": {},
   "outputs": [
    {
     "data": {
      "text/plain": [
       "RangeIndex(start=0, stop=3, step=1)"
      ]
     },
     "execution_count": 17,
     "metadata": {},
     "output_type": "execute_result"
    }
   ],
   "source": [
    "sales.index"
   ]
  },
  {
   "cell_type": "code",
   "execution_count": 18,
   "id": "9d4b3c13-2272-4e1b-9796-125292a4bbdc",
   "metadata": {},
   "outputs": [
    {
     "data": {
      "text/plain": [
       "array([1, 2, 3])"
      ]
     },
     "execution_count": 18,
     "metadata": {},
     "output_type": "execute_result"
    }
   ],
   "source": [
    "sales.values"
   ]
  },
  {
   "cell_type": "code",
   "execution_count": 19,
   "id": "036fe2d9-0163-465f-a99d-751c81279659",
   "metadata": {},
   "outputs": [
    {
     "data": {
      "text/plain": [
       "dtype('int64')"
      ]
     },
     "execution_count": 19,
     "metadata": {},
     "output_type": "execute_result"
    }
   ],
   "source": [
    "sales.dtype"
   ]
  },
  {
   "cell_type": "markdown",
   "id": "b7541c92-32fb-4f9c-9961-3339d9ddcf76",
   "metadata": {},
   "source": [
    "## methods"
   ]
  },
  {
   "cell_type": "code",
   "execution_count": 20,
   "id": "71c571e7-6cfb-45ff-b0f7-c4303f9dc118",
   "metadata": {},
   "outputs": [
    {
     "data": {
      "text/plain": [
       "0    1\n",
       "1    2\n",
       "2    3\n",
       "dtype: int64"
      ]
     },
     "execution_count": 20,
     "metadata": {},
     "output_type": "execute_result"
    }
   ],
   "source": [
    "sales.head()# by default it shows the first 5 row"
   ]
  },
  {
   "cell_type": "code",
   "execution_count": 21,
   "id": "9fbc4b01-3f04-4e80-a062-16a1d0d9bf47",
   "metadata": {},
   "outputs": [
    {
     "data": {
      "text/plain": [
       "0    1\n",
       "1    2\n",
       "2    3\n",
       "dtype: int64"
      ]
     },
     "execution_count": 21,
     "metadata": {},
     "output_type": "execute_result"
    }
   ],
   "source": [
    "sales.tail()#by default it shows the 5 last value"
   ]
  },
  {
   "cell_type": "code",
   "execution_count": 22,
   "id": "871fdcbd-be3d-4cc2-a6e3-5717b5d52d11",
   "metadata": {},
   "outputs": [
    {
     "data": {
      "text/plain": [
       "2    3\n",
       "dtype: int64"
      ]
     },
     "execution_count": 22,
     "metadata": {},
     "output_type": "execute_result"
    }
   ],
   "source": [
    "sales.tail(1)"
   ]
  },
  {
   "cell_type": "code",
   "execution_count": 23,
   "id": "875b84f6-661c-4c3b-8210-781d42468f27",
   "metadata": {},
   "outputs": [
    {
     "data": {
      "text/plain": [
       "0    1\n",
       "1    2\n",
       "2    3\n",
       "dtype: int64"
      ]
     },
     "execution_count": 23,
     "metadata": {},
     "output_type": "execute_result"
    }
   ],
   "source": [
    "sales.sort_values()"
   ]
  },
  {
   "cell_type": "code",
   "execution_count": 24,
   "id": "7bb284d7-438d-4dae-bb88-f314a581b480",
   "metadata": {},
   "outputs": [],
   "source": [
    "sales1=pd.Series([1,2,7,8,3,5,1,3,8,0,4])"
   ]
  },
  {
   "cell_type": "code",
   "execution_count": 25,
   "id": "2d950358-fe33-4b64-b57f-77ddec9a6757",
   "metadata": {},
   "outputs": [
    {
     "data": {
      "text/plain": [
       "0     1\n",
       "1     2\n",
       "2     7\n",
       "3     8\n",
       "4     3\n",
       "5     5\n",
       "6     1\n",
       "7     3\n",
       "8     8\n",
       "9     0\n",
       "10    4\n",
       "dtype: int64"
      ]
     },
     "execution_count": 25,
     "metadata": {},
     "output_type": "execute_result"
    }
   ],
   "source": [
    "sales1"
   ]
  },
  {
   "cell_type": "code",
   "execution_count": 26,
   "id": "d36337ba-91c7-4d89-bdcd-9d9b28711e8a",
   "metadata": {},
   "outputs": [
    {
     "data": {
      "text/plain": [
       "9     0\n",
       "0     1\n",
       "6     1\n",
       "1     2\n",
       "7     3\n",
       "4     3\n",
       "10    4\n",
       "5     5\n",
       "2     7\n",
       "3     8\n",
       "8     8\n",
       "dtype: int64"
      ]
     },
     "execution_count": 26,
     "metadata": {},
     "output_type": "execute_result"
    }
   ],
   "source": [
    "sales1.sort_values()"
   ]
  },
  {
   "cell_type": "code",
   "execution_count": 27,
   "id": "f1fd2555-1aca-4c7a-8d45-3ff33ba124e5",
   "metadata": {},
   "outputs": [
    {
     "data": {
      "text/plain": [
       "np.int64(11)"
      ]
     },
     "execution_count": 27,
     "metadata": {},
     "output_type": "execute_result"
    }
   ],
   "source": [
    "sales1.count()"
   ]
  },
  {
   "cell_type": "code",
   "execution_count": 28,
   "id": "a2da51be-22b7-4785-96c2-a63f0c07272e",
   "metadata": {},
   "outputs": [
    {
     "data": {
      "text/plain": [
       "0     False\n",
       "1     False\n",
       "2     False\n",
       "3     False\n",
       "4     False\n",
       "5     False\n",
       "6     False\n",
       "7     False\n",
       "8     False\n",
       "9     False\n",
       "10    False\n",
       "dtype: bool"
      ]
     },
     "execution_count": 28,
     "metadata": {},
     "output_type": "execute_result"
    }
   ],
   "source": [
    "sales1.isnull()"
   ]
  },
  {
   "cell_type": "code",
   "execution_count": 29,
   "id": "87b54e17-5b5c-4b53-a4dd-b16c2ce56a1c",
   "metadata": {},
   "outputs": [
    {
     "data": {
      "text/plain": [
       "0     True\n",
       "1     True\n",
       "2     True\n",
       "3     True\n",
       "4     True\n",
       "5     True\n",
       "6     True\n",
       "7     True\n",
       "8     True\n",
       "9     True\n",
       "10    True\n",
       "dtype: bool"
      ]
     },
     "execution_count": 29,
     "metadata": {},
     "output_type": "execute_result"
    }
   ],
   "source": [
    "sales1.notnull()"
   ]
  },
  {
   "cell_type": "markdown",
   "id": "2df57eac-4b2d-41f1-a773-72e908c73a79",
   "metadata": {},
   "source": [
    "## operation ]"
   ]
  },
  {
   "cell_type": "code",
   "execution_count": 30,
   "id": "966ba496-89d5-47c8-a2ba-b9f34decc422",
   "metadata": {},
   "outputs": [
    {
     "data": {
      "text/plain": [
       "0    3\n",
       "1    4\n",
       "2    5\n",
       "dtype: int64"
      ]
     },
     "execution_count": 30,
     "metadata": {},
     "output_type": "execute_result"
    }
   ],
   "source": [
    "sales+2"
   ]
  },
  {
   "cell_type": "code",
   "execution_count": 31,
   "id": "d5d81df1-c39a-4bde-92c8-045ad8308da8",
   "metadata": {},
   "outputs": [
    {
     "data": {
      "text/plain": [
       "0    1\n",
       "1    2\n",
       "2    3\n",
       "dtype: int64"
      ]
     },
     "execution_count": 31,
     "metadata": {},
     "output_type": "execute_result"
    }
   ],
   "source": [
    "sales"
   ]
  },
  {
   "cell_type": "code",
   "execution_count": 32,
   "id": "503b32f1-4c16-4d00-9901-eb0ed7f64d5d",
   "metadata": {},
   "outputs": [
    {
     "data": {
      "text/plain": [
       "0    3\n",
       "1    6\n",
       "2    9\n",
       "dtype: int64"
      ]
     },
     "execution_count": 32,
     "metadata": {},
     "output_type": "execute_result"
    }
   ],
   "source": [
    "sales*3"
   ]
  },
  {
   "cell_type": "code",
   "execution_count": 33,
   "id": "ef8876b0-6fa5-44d5-a845-7a07513ed556",
   "metadata": {},
   "outputs": [
    {
     "data": {
      "text/plain": [
       "0    1\n",
       "1    4\n",
       "2    9\n",
       "dtype: int64"
      ]
     },
     "execution_count": 33,
     "metadata": {},
     "output_type": "execute_result"
    }
   ],
   "source": [
    "sales**2"
   ]
  },
  {
   "cell_type": "code",
   "execution_count": 34,
   "id": "085e9865-79ee-4882-8a22-e07751832526",
   "metadata": {},
   "outputs": [],
   "source": [
    "sales_with_missing=pd.Series([1,4,5,None,7,6,None])"
   ]
  },
  {
   "cell_type": "code",
   "execution_count": 35,
   "id": "5964292b-8198-4424-bfb0-96580acd6fba",
   "metadata": {},
   "outputs": [
    {
     "data": {
      "text/plain": [
       "0    1.0\n",
       "1    4.0\n",
       "2    5.0\n",
       "3    NaN\n",
       "4    7.0\n",
       "5    6.0\n",
       "6    NaN\n",
       "dtype: float64"
      ]
     },
     "execution_count": 35,
     "metadata": {},
     "output_type": "execute_result"
    }
   ],
   "source": [
    "sales_with_missing"
   ]
  },
  {
   "cell_type": "code",
   "execution_count": 37,
   "id": "184de461-50b7-41cb-8c90-8473ced73064",
   "metadata": {},
   "outputs": [
    {
     "data": {
      "text/plain": [
       "0    False\n",
       "1    False\n",
       "2    False\n",
       "3     True\n",
       "4    False\n",
       "5    False\n",
       "6     True\n",
       "dtype: bool"
      ]
     },
     "execution_count": 37,
     "metadata": {},
     "output_type": "execute_result"
    }
   ],
   "source": [
    "sales_with_missing.isnull()"
   ]
  },
  {
   "cell_type": "code",
   "execution_count": 38,
   "id": "efda96a7-2363-4561-b141-3930cb6223cd",
   "metadata": {},
   "outputs": [
    {
     "data": {
      "text/plain": [
       "0     True\n",
       "1     True\n",
       "2     True\n",
       "3    False\n",
       "4     True\n",
       "5     True\n",
       "6    False\n",
       "dtype: bool"
      ]
     },
     "execution_count": 38,
     "metadata": {},
     "output_type": "execute_result"
    }
   ],
   "source": [
    "sales_with_missing.notnull()"
   ]
  },
  {
   "cell_type": "code",
   "execution_count": 41,
   "id": "51aa8e58-b1b2-4f6b-82d2-109564f0520f",
   "metadata": {},
   "outputs": [],
   "source": [
    "s1=sales_with_missing.fillna(0)"
   ]
  },
  {
   "cell_type": "code",
   "execution_count": 42,
   "id": "ee129d79-2be3-48ed-8272-6db9f373d3e9",
   "metadata": {},
   "outputs": [
    {
     "data": {
      "text/plain": [
       "0    1.0\n",
       "1    4.0\n",
       "2    5.0\n",
       "3    NaN\n",
       "4    7.0\n",
       "5    6.0\n",
       "6    NaN\n",
       "dtype: float64"
      ]
     },
     "execution_count": 42,
     "metadata": {},
     "output_type": "execute_result"
    }
   ],
   "source": [
    "sales_with_missing"
   ]
  },
  {
   "cell_type": "code",
   "execution_count": 43,
   "id": "9bfa854d-e437-4000-81eb-75a988e52f8d",
   "metadata": {},
   "outputs": [
    {
     "data": {
      "text/plain": [
       "0    1.0\n",
       "1    4.0\n",
       "2    5.0\n",
       "3    0.0\n",
       "4    7.0\n",
       "5    6.0\n",
       "6    0.0\n",
       "dtype: float64"
      ]
     },
     "execution_count": 43,
     "metadata": {},
     "output_type": "execute_result"
    }
   ],
   "source": [
    "s1"
   ]
  },
  {
   "cell_type": "code",
   "execution_count": 66,
   "id": "6e4612a6-3a7a-4e62-9a1f-fe8826bf93ef",
   "metadata": {},
   "outputs": [],
   "source": [
    "sales_with_missing=sales_with_missing.fillna(0)"
   ]
  },
  {
   "cell_type": "code",
   "execution_count": 67,
   "id": "d6527664-9583-4c19-93c8-8d73ef69f03d",
   "metadata": {},
   "outputs": [
    {
     "data": {
      "text/plain": [
       "0       1.0\n",
       "1       4.0\n",
       "2       5.0\n",
       "3    9000.0\n",
       "4       7.0\n",
       "5       6.0\n",
       "6    9000.0\n",
       "dtype: float64"
      ]
     },
     "execution_count": 67,
     "metadata": {},
     "output_type": "execute_result"
    }
   ],
   "source": [
    "sales_with_missing"
   ]
  },
  {
   "cell_type": "code",
   "execution_count": 68,
   "id": "8b8f8b0b-73e0-46f5-b9ad-b12250c466bb",
   "metadata": {},
   "outputs": [
    {
     "data": {
      "text/plain": [
       "0       1.0\n",
       "1       4.0\n",
       "2       5.0\n",
       "3    9000.0\n",
       "4       7.0\n",
       "5       6.0\n",
       "6    9000.0\n",
       "dtype: float64"
      ]
     },
     "execution_count": 68,
     "metadata": {},
     "output_type": "execute_result"
    }
   ],
   "source": [
    "sales_with_missing"
   ]
  },
  {
   "cell_type": "code",
   "execution_count": 69,
   "id": "26c58aef-5a8f-400f-9f1d-26877bea7734",
   "metadata": {},
   "outputs": [
    {
     "data": {
      "text/plain": [
       "0       1.0\n",
       "1       4.0\n",
       "2       5.0\n",
       "3    9000.0\n",
       "4       7.0\n",
       "5       6.0\n",
       "6    9000.0\n",
       "dtype: float64"
      ]
     },
     "execution_count": 69,
     "metadata": {},
     "output_type": "execute_result"
    }
   ],
   "source": [
    "sales_with_missing"
   ]
  },
  {
   "cell_type": "code",
   "execution_count": 70,
   "id": "87ed80b8-2d88-4041-acb8-20d41efc85d7",
   "metadata": {},
   "outputs": [],
   "source": [
    "s=pd.Series(data=[100,200,300,400,500,600],index=list('abcdef'))"
   ]
  },
  {
   "cell_type": "code",
   "execution_count": 71,
   "id": "1a02061d-be36-4233-b4cb-b6e6309dc848",
   "metadata": {},
   "outputs": [
    {
     "data": {
      "text/plain": [
       "a    100\n",
       "b    200\n",
       "c    300\n",
       "d    400\n",
       "e    500\n",
       "f    600\n",
       "dtype: int64"
      ]
     },
     "execution_count": 71,
     "metadata": {},
     "output_type": "execute_result"
    }
   ],
   "source": [
    "s"
   ]
  },
  {
   "cell_type": "markdown",
   "id": "f8e00b3a-3686-4b2c-9d18-a4bceea2bf95",
   "metadata": {},
   "source": [
    "## pandas dataframe"
   ]
  },
  {
   "cell_type": "markdown",
   "id": "5c0e610f-80f5-4eba-b71a-4515b5ac5088",
   "metadata": {},
   "source": [
    "### create dataframe"
   ]
  },
  {
   "cell_type": "code",
   "execution_count": 73,
   "id": "9b35874a-6ed1-4aff-8072-a6d5b211601e",
   "metadata": {},
   "outputs": [],
   "source": [
    "data=pd.DataFrame({\n",
    "    'name':['rosan','kamal'],\n",
    "    'age':[21,23]\n",
    "})"
   ]
  },
  {
   "cell_type": "code",
   "execution_count": 74,
   "id": "d61904ef-56ed-4ac0-a957-5ec6c78dd11c",
   "metadata": {},
   "outputs": [
    {
     "data": {
      "text/html": [
       "<div>\n",
       "<style scoped>\n",
       "    .dataframe tbody tr th:only-of-type {\n",
       "        vertical-align: middle;\n",
       "    }\n",
       "\n",
       "    .dataframe tbody tr th {\n",
       "        vertical-align: top;\n",
       "    }\n",
       "\n",
       "    .dataframe thead th {\n",
       "        text-align: right;\n",
       "    }\n",
       "</style>\n",
       "<table border=\"1\" class=\"dataframe\">\n",
       "  <thead>\n",
       "    <tr style=\"text-align: right;\">\n",
       "      <th></th>\n",
       "      <th>name</th>\n",
       "      <th>age</th>\n",
       "    </tr>\n",
       "  </thead>\n",
       "  <tbody>\n",
       "    <tr>\n",
       "      <th>0</th>\n",
       "      <td>rosan</td>\n",
       "      <td>21</td>\n",
       "    </tr>\n",
       "    <tr>\n",
       "      <th>1</th>\n",
       "      <td>kamal</td>\n",
       "      <td>23</td>\n",
       "    </tr>\n",
       "  </tbody>\n",
       "</table>\n",
       "</div>"
      ],
      "text/plain": [
       "    name  age\n",
       "0  rosan   21\n",
       "1  kamal   23"
      ]
     },
     "execution_count": 74,
     "metadata": {},
     "output_type": "execute_result"
    }
   ],
   "source": [
    "data"
   ]
  },
  {
   "cell_type": "code",
   "execution_count": 77,
   "id": "9f5f0c12-d8f2-4857-abb5-6d07d2468e8d",
   "metadata": {},
   "outputs": [],
   "source": [
    "s1=pd.Series(data=[1,2,3,4,5])\n",
    "s2=pd.Series(data=[10,20,30,40,50])\n",
    "s3=pd.Series(data=[100,200,300,400,500],index=list('abcde'))\n",
    "data=pd.DataFrame({'c1':s1,'c2':s2})"
   ]
  },
  {
   "cell_type": "code",
   "execution_count": 78,
   "id": "5fe886e6-8203-45d4-9153-c100298f2c02",
   "metadata": {},
   "outputs": [
    {
     "data": {
      "text/plain": [
       "a    100\n",
       "b    200\n",
       "c    300\n",
       "d    400\n",
       "e    500\n",
       "dtype: int64"
      ]
     },
     "execution_count": 78,
     "metadata": {},
     "output_type": "execute_result"
    }
   ],
   "source": [
    "s3"
   ]
  },
  {
   "cell_type": "code",
   "execution_count": 79,
   "id": "c9050bb8-4ca6-471b-a2a4-4fe7456e603a",
   "metadata": {},
   "outputs": [
    {
     "data": {
      "text/html": [
       "<div>\n",
       "<style scoped>\n",
       "    .dataframe tbody tr th:only-of-type {\n",
       "        vertical-align: middle;\n",
       "    }\n",
       "\n",
       "    .dataframe tbody tr th {\n",
       "        vertical-align: top;\n",
       "    }\n",
       "\n",
       "    .dataframe thead th {\n",
       "        text-align: right;\n",
       "    }\n",
       "</style>\n",
       "<table border=\"1\" class=\"dataframe\">\n",
       "  <thead>\n",
       "    <tr style=\"text-align: right;\">\n",
       "      <th></th>\n",
       "      <th>c1</th>\n",
       "      <th>c2</th>\n",
       "    </tr>\n",
       "  </thead>\n",
       "  <tbody>\n",
       "    <tr>\n",
       "      <th>0</th>\n",
       "      <td>1</td>\n",
       "      <td>10</td>\n",
       "    </tr>\n",
       "    <tr>\n",
       "      <th>1</th>\n",
       "      <td>2</td>\n",
       "      <td>20</td>\n",
       "    </tr>\n",
       "    <tr>\n",
       "      <th>2</th>\n",
       "      <td>3</td>\n",
       "      <td>30</td>\n",
       "    </tr>\n",
       "    <tr>\n",
       "      <th>3</th>\n",
       "      <td>4</td>\n",
       "      <td>40</td>\n",
       "    </tr>\n",
       "    <tr>\n",
       "      <th>4</th>\n",
       "      <td>5</td>\n",
       "      <td>50</td>\n",
       "    </tr>\n",
       "  </tbody>\n",
       "</table>\n",
       "</div>"
      ],
      "text/plain": [
       "   c1  c2\n",
       "0   1  10\n",
       "1   2  20\n",
       "2   3  30\n",
       "3   4  40\n",
       "4   5  50"
      ]
     },
     "execution_count": 79,
     "metadata": {},
     "output_type": "execute_result"
    }
   ],
   "source": [
    "data"
   ]
  },
  {
   "cell_type": "markdown",
   "id": "0f9482fc-0149-410c-8737-763c7b7e2ceb",
   "metadata": {},
   "source": [
    "## attributes\n",
    "\n"
   ]
  },
  {
   "cell_type": "code",
   "execution_count": 80,
   "id": "05d8afda-0d75-4741-b546-415a2993bce7",
   "metadata": {},
   "outputs": [
    {
     "data": {
      "text/plain": [
       "(5,)"
      ]
     },
     "execution_count": 80,
     "metadata": {},
     "output_type": "execute_result"
    }
   ],
   "source": [
    "s1.shape"
   ]
  },
  {
   "cell_type": "code",
   "execution_count": 81,
   "id": "a9e4c48f-9667-40bb-8350-778cd8aa4d51",
   "metadata": {},
   "outputs": [
    {
     "data": {
      "text/plain": [
       "(5, 2)"
      ]
     },
     "execution_count": 81,
     "metadata": {},
     "output_type": "execute_result"
    }
   ],
   "source": [
    "data.shape\n"
   ]
  },
  {
   "cell_type": "code",
   "execution_count": 82,
   "id": "9850b994-8c2b-4649-bf31-2edd306a9a4f",
   "metadata": {},
   "outputs": [
    {
     "data": {
      "text/plain": [
       "Index(['c1', 'c2'], dtype='object')"
      ]
     },
     "execution_count": 82,
     "metadata": {},
     "output_type": "execute_result"
    }
   ],
   "source": [
    "data.columns"
   ]
  },
  {
   "cell_type": "markdown",
   "id": "5643fc8d-6588-412d-93bb-701ac7688ab2",
   "metadata": {},
   "source": [
    "### Accessing data"
   ]
  },
  {
   "cell_type": "markdown",
   "id": "a1c1122e-f222-4408-8a75-03fe74e3c7bd",
   "metadata": {},
   "source": [
    "## using lables\n"
   ]
  },
  {
   "cell_type": "code",
   "execution_count": 83,
   "id": "b7e91781-6669-4d64-98cd-0e56ec4e7150",
   "metadata": {},
   "outputs": [
    {
     "data": {
      "text/plain": [
       "c1     1\n",
       "c2    10\n",
       "Name: 0, dtype: int64"
      ]
     },
     "execution_count": 83,
     "metadata": {},
     "output_type": "execute_result"
    }
   ],
   "source": [
    "data.loc[0]"
   ]
  },
  {
   "cell_type": "markdown",
   "id": "ac19cb11-9c0b-4808-9186-7f7cb87bf75d",
   "metadata": {},
   "source": [
    "## using index\n"
   ]
  },
  {
   "cell_type": "code",
   "execution_count": 84,
   "id": "d2d9b860-8004-4984-8511-4d6b1dbfe023",
   "metadata": {},
   "outputs": [
    {
     "data": {
      "text/plain": [
       "c1     1\n",
       "c2    10\n",
       "Name: 0, dtype: int64"
      ]
     },
     "execution_count": 84,
     "metadata": {},
     "output_type": "execute_result"
    }
   ],
   "source": [
    "data.iloc[0]"
   ]
  },
  {
   "cell_type": "code",
   "execution_count": 85,
   "id": "0e172b25-198b-421e-ae3f-9b548e3b4e96",
   "metadata": {},
   "outputs": [
    {
     "data": {
      "text/html": [
       "<div>\n",
       "<style scoped>\n",
       "    .dataframe tbody tr th:only-of-type {\n",
       "        vertical-align: middle;\n",
       "    }\n",
       "\n",
       "    .dataframe tbody tr th {\n",
       "        vertical-align: top;\n",
       "    }\n",
       "\n",
       "    .dataframe thead th {\n",
       "        text-align: right;\n",
       "    }\n",
       "</style>\n",
       "<table border=\"1\" class=\"dataframe\">\n",
       "  <thead>\n",
       "    <tr style=\"text-align: right;\">\n",
       "      <th></th>\n",
       "      <th>c1</th>\n",
       "      <th>c2</th>\n",
       "    </tr>\n",
       "  </thead>\n",
       "  <tbody>\n",
       "    <tr>\n",
       "      <th>0</th>\n",
       "      <td>1</td>\n",
       "      <td>10</td>\n",
       "    </tr>\n",
       "    <tr>\n",
       "      <th>1</th>\n",
       "      <td>2</td>\n",
       "      <td>20</td>\n",
       "    </tr>\n",
       "    <tr>\n",
       "      <th>2</th>\n",
       "      <td>3</td>\n",
       "      <td>30</td>\n",
       "    </tr>\n",
       "    <tr>\n",
       "      <th>3</th>\n",
       "      <td>4</td>\n",
       "      <td>40</td>\n",
       "    </tr>\n",
       "    <tr>\n",
       "      <th>4</th>\n",
       "      <td>5</td>\n",
       "      <td>50</td>\n",
       "    </tr>\n",
       "  </tbody>\n",
       "</table>\n",
       "</div>"
      ],
      "text/plain": [
       "   c1  c2\n",
       "0   1  10\n",
       "1   2  20\n",
       "2   3  30\n",
       "3   4  40\n",
       "4   5  50"
      ]
     },
     "execution_count": 85,
     "metadata": {},
     "output_type": "execute_result"
    }
   ],
   "source": [
    "data"
   ]
  },
  {
   "cell_type": "code",
   "execution_count": 86,
   "id": "a86e9895-3ae7-45b6-83bb-2bb467cda61a",
   "metadata": {},
   "outputs": [
    {
     "data": {
      "text/plain": [
       "np.int64(2)"
      ]
     },
     "execution_count": 86,
     "metadata": {},
     "output_type": "execute_result"
    }
   ],
   "source": [
    "data.loc[1,'c1']"
   ]
  },
  {
   "cell_type": "code",
   "execution_count": 87,
   "id": "f9361981-db5a-4cfd-89a1-df49da33e397",
   "metadata": {},
   "outputs": [
    {
     "data": {
      "text/plain": [
       "np.int64(10)"
      ]
     },
     "execution_count": 87,
     "metadata": {},
     "output_type": "execute_result"
    }
   ],
   "source": [
    "data.loc[0,'c2']"
   ]
  },
  {
   "cell_type": "code",
   "execution_count": 88,
   "id": "ec696d6a-552c-4633-b1d7-fa193125afa1",
   "metadata": {},
   "outputs": [
    {
     "data": {
      "text/plain": [
       "np.int64(20)"
      ]
     },
     "execution_count": 88,
     "metadata": {},
     "output_type": "execute_result"
    }
   ],
   "source": [
    "data.iloc[1,1]"
   ]
  },
  {
   "cell_type": "code",
   "execution_count": null,
   "id": "3c666093-aaec-4bc9-b815-c61d39fe3f25",
   "metadata": {},
   "outputs": [],
   "source": []
  }
 ],
 "metadata": {
  "kernelspec": {
   "display_name": "Python [conda env:base] *",
   "language": "python",
   "name": "conda-base-py"
  },
  "language_info": {
   "codemirror_mode": {
    "name": "ipython",
    "version": 3
   },
   "file_extension": ".py",
   "mimetype": "text/x-python",
   "name": "python",
   "nbconvert_exporter": "python",
   "pygments_lexer": "ipython3",
   "version": "3.13.5"
  }
 },
 "nbformat": 4,
 "nbformat_minor": 5
}
